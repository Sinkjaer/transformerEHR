{
  "cells": [
    {
      "cell_type": "code",
      "source": [
        "import sys\n",
        "\n",
        "sys.path.insert(0, \"../\")\n",
        "\n",
        "Azure = True\n",
        "\n",
        "import json\n",
        "from torch.utils.data import DataLoader\n",
        "\n",
        "from dataLoader.dataLoaderMLM import CoercionRiskDataset, process_data_CoercionRisk\n",
        "from dataLoader.build_vocab import load_vocab, build_vocab"
      ],
      "outputs": [],
      "execution_count": 1,
      "metadata": {
        "gather": {
          "logged": 1690442566207
        }
      }
    },
    {
      "cell_type": "code",
      "source": [
        "if Azure:\n",
        "    file_config = {\n",
        "        \"vocab\": \"../dataloader/vocab.txt\",  # vocabulary idx2token, token2idx\n",
        "        \"data_train\": \"../../EHR_data/data/pre_train_training_set.json\",  # formated data\n",
        "        \"data_val\": \"../../EHR_data/CoercionData_val.json\",  # formated data\n",
        "        \"model_path\": \"model/model1/\",  # where to save model\n",
        "        \"model_name\": \"test\",  # model name\n",
        "        \"file_name\": \"log\",  # log path\n",
        "        \"use_cuda\": True,\n",
        "        \"device$\": \"cuda:0\",\n",
        "    }\n",
        "else:\n",
        "    file_config = {\n",
        "        \"vocab\": \"/Users/mikkelsinkjaer/Library/Mobile Documents/com~apple~CloudDocs/transEHR/Code/transformerEHR/data/vocab.txt\",  # vocabulary idx2token, token2idx\n",
        "        \"data_train\": \"/Users/mikkelsinkjaer/Library/Mobile Documents/com~apple~CloudDocs/transEHR/Code/transformerEHR/data/syntheticData.json\",\n",
        "        \"data_val\": \"/Users/mikkelsinkjaer/Library/Mobile Documents/com~apple~CloudDocs/transEHR/Code/transformerEHR/data/syntheticData_val.json\",\n",
        "        \"model_path\": \"model/model1/\",  # where to save model\n",
        "        \"model_name\": \"test\",  # model name\n",
        "        \"file_name\": \"log.txt\",  # log path\n",
        "        \"use_cuda\": False,\n",
        "        \"device\": \"cpu\",\n",
        "    }"
      ],
      "outputs": [],
      "execution_count": 2,
      "metadata": {
        "gather": {
          "logged": 1690442566359
        }
      }
    },
    {
      "cell_type": "code",
      "source": [
        "with open(file_config[\"data_train\"]) as f:\n",
        "    data_json = json.load(f)\n",
        "print(next(iter(data_json.items())))\n",
        "vocab_list, word_to_idx = build_vocab(data_json, Azure=Azure)"
      ],
      "outputs": [
        {
          "output_type": "stream",
          "name": "stdout",
          "text": "('1067786', {'Sex': 'Kvinde', 'BirthDate': '1937-05-25', 'DeathDate': None, 'Events': [{'EncounterKey': 50401554, 'Time': '2018-08-30T07:18:00', 'Type': 'Behandlingskontakt'}, {'EncounterKey': 96205481, 'Time': '2020-07-30T10:08:00', 'Type': 'Behandlingskontakt'}, {'EncounterKey': 47558147, 'Time': '2018-07-09T14:52:45', 'Type': 'Behandlingskontakt'}, {'EncounterKey': 107607846, 'Time': '2020-12-01T07:32:00', 'Type': 'Behandlingskontakt'}, {'EncounterKey': 50624348, 'Time': '2018-09-14T14:20:00', 'Type': 'Ambulant besøg'}, {'EncounterKey': 4063926, 'Time': '2017-01-09T12:55:00', 'Type': 'Ambulant besøg'}, {'EncounterKey': 117411991, 'Time': '2021-04-19T10:45:00', 'Type': 'Ambulant besøg'}, {'EncounterKey': 111889666, 'Time': '2021-04-27T10:30:00', 'Type': 'Ambulant besøg'}, {'EncounterKey': 58815723, 'Time': '2019-01-07T11:45:00', 'Type': 'Ambulant besøg'}, {'EncounterKey': 47199421, 'Time': '2019-01-02T10:30:00', 'Type': 'Ambulant besøg'}, {'EncounterKey': 74468447, 'Time': '2019-09-13T10:00:00', 'Type': 'Aftale'}, {'EncounterKey': 82656113, 'Time': '2021-01-04T10:30:00', 'Type': 'Aftale'}, {'EncounterKey': 114905799, 'Time': '2021-03-05T10:15:00', 'Type': 'Ambulant besøg'}, {'EncounterKey': 122020993, 'Time': '2021-08-09T10:00:00', 'Type': 'Ambulant besøg'}, {'EncounterKey': 54959724, 'Time': '2019-01-25T11:30:00', 'Type': 'Aftale'}, {'EncounterKey': 122027337, 'Time': '2021-06-04T10:00:00', 'Type': 'Ambulant besøg'}, {'EncounterKey': 126834454, 'Time': '2021-10-04T10:00:00', 'Type': 'Ambulant besøg'}, {'EncounterKey': 48375860, 'Time': '2018-07-27T10:40:00', 'Type': 'Aftale'}, {'EncounterKey': 77322468, 'Time': '2019-10-23T10:30:00', 'Type': 'Ambulant besøg'}, {'EncounterKey': 100370362, 'Time': '2020-11-24T10:30:00', 'Type': 'Aftale'}, {'EncounterKey': 99637358, 'Time': '2020-09-09T11:15:00', 'Type': 'Aftale'}, {'EncounterKey': 98181535, 'Time': '2020-08-18T14:00:00', 'Type': 'Ambulant besøg'}, {'EncounterKey': 103792118, 'Time': '2021-02-01T11:30:00', 'Type': 'Aftale'}, {'EncounterKey': 111074853, 'Time': '2021-04-06T10:00:00', 'Type': 'Aftale'}, {'EncounterKey': 76854574, 'Time': '2019-10-28T11:40:00', 'Type': 'Ambulant besøg'}, {'EncounterKey': 95954941, 'Time': '2020-07-29T11:20:00', 'Type': 'Behandlingskontakt'}, {'EncounterKey': 55698596, 'Time': '2018-12-17T10:00:00', 'Type': 'Ambulant besøg'}, {'EncounterKey': 100373760, 'Time': '2020-11-24T11:00:00', 'Type': 'Aftale'}, {'EncounterKey': 49700476, 'Time': '2018-08-17T00:00:00', 'Type': 'Behandlingskontakt'}, {'EncounterKey': 51354628, 'Time': '2018-11-02T11:00:00', 'Type': 'Ambulant besøg'}, {'EncounterKey': 60197727, 'Time': '2019-01-31T11:00:00', 'Type': 'Aftale'}, {'EncounterKey': 58637371, 'Time': '2020-01-06T10:00:00', 'Type': 'Ambulant besøg'}, {'EncounterKey': 8333753, 'Time': '2018-06-29T11:40:00', 'Type': 'Ambulant besøg'}, {'EncounterKey': 98158201, 'Time': '2020-08-18T13:30:00', 'Type': 'Ambulant besøg'}, {'EncounterKey': 4274025, 'Time': '2017-05-23T09:50:00', 'Type': 'Ambulant besøg'}, {'EncounterKey': 95960195, 'Time': '2020-07-29T11:00:00', 'Type': 'Aftale'}, {'EncounterKey': 76456538, 'Time': '2019-10-03T11:40:00', 'Type': 'Ambulant besøg'}, {'EncounterKey': 104070190, 'Time': '2021-01-12T10:00:00', 'Type': 'Ambulant besøg'}, {'EncounterKey': 75767210, 'Time': '2019-10-18T09:30:00', 'Type': 'Aftale'}, {'EncounterKey': 95943556, 'Time': '2020-07-10T09:30:00', 'Type': 'Ambulant besøg'}, {'EncounterKey': 95956533, 'Time': '2020-07-29T11:00:00', 'Type': 'Behandlingskontakt'}, {'EncounterKey': 14422330, 'Time': '2017-04-28T12:30:00', 'Type': 'Aftale'}, {'EncounterKey': 114972179, 'Time': '2021-03-05T00:00:00', 'Type': 'Behandlingskontakt'}, {'EncounterKey': 8333698, 'Time': '2018-06-20T09:00:00', 'Type': 'Ambulant besøg'}, {'EncounterKey': 85452970, 'Time': '2020-04-14T10:45:00', 'Type': 'Aftale'}, {'EncounterKey': 59332521, 'Time': '2019-03-12T10:45:00', 'Type': 'Ambulant besøg'}, {'EncounterKey': 34644475, 'Time': '2017-12-22T00:00:00', 'Type': 'Behandlingskontakt'}, {'EncounterKey': 67008047, 'Time': '2019-08-06T10:00:00', 'Type': 'Ambulant besøg'}, {'EncounterKey': 63456692, 'Time': '2019-09-18T10:30:00', 'Type': 'Behandlingskontakt'}, {'EncounterKey': 63421986, 'Time': '2019-09-18T11:00:00', 'Type': 'Ambulant besøg'}, {'EncounterKey': 49695733, 'Time': '2018-08-30T10:00:00', 'Type': 'Aftale'}, {'EncounterKey': 50248149, 'Time': '2018-08-26T00:00:00', 'Type': 'Behandlingskontakt'}, {'EncounterKey': 4544953, 'Time': '2017-06-16T14:00:00', 'Type': 'Ambulant besøg'}, {'EncounterKey': 76421224, 'Time': '2019-10-01T00:00:00', 'Type': 'Behandlingskontakt'}, {'EncounterKey': 75628493, 'Time': '2019-09-20T00:00:00', 'Type': 'Behandlingskontakt'}, {'EncounterKey': 101844004, 'Time': '2020-10-22T11:00:00', 'Type': 'Ambulant besøg'}, {'EncounterKey': 92894007, 'Time': '2020-08-25T10:00:00', 'Type': 'Ambulant besøg'}, {'EncounterKey': 52162956, 'Time': '2018-10-08T11:00:00', 'Type': 'Ambulant besøg'}, {'EncounterKey': 117136856, 'Time': '2021-03-31T12:30:00', 'Type': 'Ambulant besøg'}, {'EncounterKey': 760585, 'Time': '2018-08-23T13:00:00', 'Type': 'Aftale'}, {'EncounterKey': 48340715, 'Time': '2018-07-27T09:20:00', 'Type': 'Aftale'}, {'EncounterKey': 48337910, 'Time': '2018-07-25T09:20:00', 'Type': 'Aftale'}, {'EncounterKey': 59829460, 'Time': '2019-03-13T08:20:00', 'Type': 'Ambulant besøg'}, {'EncounterKey': 50662260, 'Time': '2018-10-09T12:50:00', 'Type': 'Ambulant besøg'}, {'EncounterKey': 76462852, 'Time': '2019-10-08T11:20:00', 'Type': 'Ambulant besøg'}, {'EncounterKey': 100221138, 'Time': '2020-09-11T12:00:00', 'Type': 'Telefonkontakt'}, {'EncounterKey': 60366523, 'Time': '2019-02-22T09:30:00', 'Type': 'Ambulant besøg'}, {'EncounterKey': 95966604, 'Time': '2020-07-29T09:45:00', 'Type': 'Aftale'}, {'EncounterKey': 50362136, 'Time': '2018-08-29T12:50:00', 'Type': 'Aftale'}, {'EncounterKey': 131055337, 'Time': '2021-12-06T10:45:00', 'Type': 'Ambulant besøg'}, {'EncounterKey': 49875802, 'Time': '2018-08-28T10:20:00', 'Type': 'Ambulant besøg'}, {'EncounterKey': 95986733, 'Time': '2020-07-29T09:45:00', 'Type': 'Behandlingskontakt'}, {'EncounterKey': 62185011, 'Time': '2019-09-06T10:00:00', 'Type': 'Aftale'}, {'EncounterKey': 112077896, 'Time': '2021-03-02T11:40:00', 'Type': 'Ambulant besøg'}, {'EncounterKey': 47978431, 'Time': '2018-08-17T13:45:00', 'Type': 'Aftale'}, {'EncounterKey': 75767422, 'Time': '2019-10-03T09:00:00', 'Type': 'Ambulant besøg'}, {'EncounterKey': 63453279, 'Time': '2019-05-06T11:30:00', 'Type': 'Ambulant besøg'}, {'EncounterKey': 77542084, 'Time': '2019-11-11T11:00:00', 'Type': 'Ambulant besøg'}, {'EncounterKey': 98089954, 'Time': '2020-09-07T10:09:00', 'Type': 'Behandlingskontakt'}, {'EncounterKey': 50578311, 'Time': '2018-09-11T11:00:00', 'Type': 'Ambulant besøg'}, {'EncounterKey': 50371217, 'Time': '2018-08-28T11:20:00', 'Type': 'Ambulant besøg'}, {'EncounterKey': 79317322, 'Time': '2020-01-23T09:30:00', 'Type': 'Ambulant besøg'}, {'EncounterKey': 100354397, 'Time': '2020-11-23T10:15:00', 'Type': 'Aftale'}, {'EncounterKey': 74643214, 'Time': '2019-09-06T10:30:00', 'Type': 'Ambulant besøg'}, {'EncounterKey': 72640426, 'Time': '2019-10-23T10:00:00', 'Type': 'Aftale'}, {'EncounterKey': 101824361, 'Time': '2020-10-22T10:30:00', 'Type': 'Ambulant besøg'}, {'EncounterKey': 48417701, 'Time': '2018-08-01T10:20:00', 'Type': 'Aftale'}, {'EncounterKey': 89472972, 'Time': '2020-06-02T10:00:00', 'Type': 'Ambulant besøg'}, {'EncounterKey': 98993713, 'Time': '2020-10-26T10:00:00', 'Type': 'Ambulant besøg'}, {'EncounterKey': 13535942, 'Time': '2017-04-11T10:30:00', 'Type': 'Aftale'}, {'EncounterKey': 53593475, 'Time': '2018-11-12T11:30:00', 'Type': 'Ambulant besøg'}, {'EncounterKey': 48383125, 'Time': '2018-07-30T10:40:00', 'Type': 'Aftale'}, {'EncounterKey': 109651376, 'Time': '2020-12-23T10:00:00', 'Type': 'Telefonkontakt'}, {'EncounterKey': 77023191, 'Time': '2019-10-10T00:00:00', 'Type': 'Telefonkontakt'}, {'EncounterKey': 48873799, 'Time': '2018-08-16T10:00:00', 'Type': 'Ambulant besøg'}, {'EncounterKey': 50401554, 'Time': '2018-08-30T07:18:00', 'Type': '5 Indlægges til us/op'}, {'EncounterKey': 96205481, 'Time': '2020-07-30T10:08:00', 'Type': '5 Indlægges til us/op'}, {'EncounterKey': 47558147, 'Time': '2018-07-09T14:52:45', 'Type': '0 Indlagt'}, {'EncounterKey': 107607846, 'Time': '2020-12-01T07:32:00', 'Type': '0 Indlagt'}, {'EncounterKey': 50624348, 'Time': '2018-09-14T14:20:00', 'Type': '2 Ambulant'}, {'EncounterKey': 4063926, 'Time': '2017-01-09T12:55:00', 'Type': '2 Ambulant'}, {'EncounterKey': 117411991, 'Time': '2021-04-19T10:45:00', 'Type': '2 Ambulant'}, {'EncounterKey': 111889666, 'Time': '2021-04-27T10:30:00', 'Type': '2 Ambulant'}, {'EncounterKey': 74468447, 'Time': '2019-09-13T10:00:00', 'Type': '2 Ambulant'}, {'EncounterKey': 82656113, 'Time': '2021-01-04T10:30:00', 'Type': '2 Ambulant'}, {'EncounterKey': 114905799, 'Time': '2021-03-05T10:15:00', 'Type': '2 Ambulant'}, {'EncounterKey': 122020993, 'Time': '2021-08-09T10:00:00', 'Type': '2 Ambulant'}, {'EncounterKey': 122027337, 'Time': '2021-06-04T10:00:00', 'Type': '2 Ambulant'}, {'EncounterKey': 126834454, 'Time': '2021-10-04T10:00:00', 'Type': '2 Ambulant'}, {'EncounterKey': 77322468, 'Time': '2019-10-23T10:30:00', 'Type': '2 Ambulant'}, {'EncounterKey': 100370362, 'Time': '2020-11-24T10:30:00', 'Type': '2 Ambulant'}, {'EncounterKey': 99637358, 'Time': '2020-09-09T11:15:00', 'Type': '2 Ambulant'}, {'EncounterKey': 98181535, 'Time': '2020-08-18T14:00:00', 'Type': '2 Ambulant'}, {'EncounterKey': 103792118, 'Time': '2021-02-01T11:30:00', 'Type': '2 Ambulant'}, {'EncounterKey': 111074853, 'Time': '2021-04-06T10:00:00', 'Type': '2 Ambulant'}, {'EncounterKey': 76854574, 'Time': '2019-10-28T11:40:00', 'Type': '2 Ambulant'}, {'EncounterKey': 95954941, 'Time': '2020-07-29T11:20:00', 'Type': '2 Ambulant'}, {'EncounterKey': 100373760, 'Time': '2020-11-24T11:00:00', 'Type': '2 Ambulant'}, {'EncounterKey': 49700476, 'Time': '2018-08-17T00:00:00', 'Type': '3 Akut ambulant'}, {'EncounterKey': 58637371, 'Time': '2020-01-06T10:00:00', 'Type': '2 Ambulant'}, {'EncounterKey': 98158201, 'Time': '2020-08-18T13:30:00', 'Type': '2 Ambulant'}, {'EncounterKey': 95960195, 'Time': '2020-07-29T11:00:00', 'Type': '2 Ambulant'}, {'EncounterKey': 76456538, 'Time': '2019-10-03T11:40:00', 'Type': '2 Ambulant'}, {'EncounterKey': 104070190, 'Time': '2021-01-12T10:00:00', 'Type': '2 Ambulant'}, {'EncounterKey': 75767210, 'Time': '2019-10-18T09:30:00', 'Type': '2 Ambulant'}, {'EncounterKey': 95943556, 'Time': '2020-07-10T09:30:00', 'Type': '2 Ambulant'}, {'EncounterKey': 95956533, 'Time': '2020-07-29T11:00:00', 'Type': '2 Ambulant'}, {'EncounterKey': 114972179, 'Time': '2021-03-05T00:00:00', 'Type': '4 Ambulant us/op'}, {'EncounterKey': 85452970, 'Time': '2020-04-14T10:45:00', 'Type': '2 Ambulant'}, {'EncounterKey': 59332521, 'Time': '2019-03-12T10:45:00', 'Type': '2 Ambulant'}, {'EncounterKey': 34644475, 'Time': '2017-12-22T00:00:00', 'Type': '3 Akut ambulant'}, {'EncounterKey': 67008047, 'Time': '2019-08-06T10:00:00', 'Type': '2 Ambulant'}, {'EncounterKey': 63456692, 'Time': '2019-09-18T10:30:00', 'Type': '2 Ambulant'}, {'EncounterKey': 63421986, 'Time': '2019-09-18T11:00:00', 'Type': '2 Ambulant'}, {'EncounterKey': 50248149, 'Time': '2018-08-26T00:00:00', 'Type': '3 Akut ambulant'}, {'EncounterKey': 76421224, 'Time': '2019-10-01T00:00:00', 'Type': '3 Akut ambulant'}, {'EncounterKey': 75628493, 'Time': '2019-09-20T00:00:00', 'Type': '5 Indlægges til us/op'}, {'EncounterKey': 101844004, 'Time': '2020-10-22T11:00:00', 'Type': '2 Ambulant'}, {'EncounterKey': 92894007, 'Time': '2020-08-25T10:00:00', 'Type': '2 Ambulant'}, {'EncounterKey': 117136856, 'Time': '2021-03-31T12:30:00', 'Type': '2 Ambulant'}, {'EncounterKey': 59829460, 'Time': '2019-03-13T08:20:00', 'Type': '2 Ambulant'}, {'EncounterKey': 76462852, 'Time': '2019-10-08T11:20:00', 'Type': '2 Ambulant'}, {'EncounterKey': 100221138, 'Time': '2020-09-11T12:00:00', 'Type': '2 Ambulant'}, {'EncounterKey': 60366523, 'Time': '2019-02-22T09:30:00', 'Type': '2 Ambulant'}, {'EncounterKey': 95966604, 'Time': '2020-07-29T09:45:00', 'Type': '2 Ambulant'}, {'EncounterKey': 131055337, 'Time': '2021-12-06T10:45:00', 'Type': '2 Ambulant'}, {'EncounterKey': 95986733, 'Time': '2020-07-29T09:45:00', 'Type': '2 Ambulant'}, {'EncounterKey': 62185011, 'Time': '2019-09-06T10:00:00', 'Type': '2 Ambulant'}, {'EncounterKey': 112077896, 'Time': '2021-03-02T11:40:00', 'Type': '2 Ambulant'}, {'EncounterKey': 75767422, 'Time': '2019-10-03T09:00:00', 'Type': '2 Ambulant'}, {'EncounterKey': 63453279, 'Time': '2019-05-06T11:30:00', 'Type': '2 Ambulant'}, {'EncounterKey': 77542084, 'Time': '2019-11-11T11:00:00', 'Type': '2 Ambulant'}, {'EncounterKey': 98089954, 'Time': '2020-09-07T10:09:00', 'Type': '0 Indlagt'}, {'EncounterKey': 79317322, 'Time': '2020-01-23T09:30:00', 'Type': '2 Ambulant'}, {'EncounterKey': 100354397, 'Time': '2020-11-23T10:15:00', 'Type': '2 Ambulant'}, {'EncounterKey': 74643214, 'Time': '2019-09-06T10:30:00', 'Type': '2 Ambulant'}, {'EncounterKey': 72640426, 'Time': '2019-10-23T10:00:00', 'Type': '2 Ambulant'}, {'EncounterKey': 101824361, 'Time': '2020-10-22T10:30:00', 'Type': '2 Ambulant'}, {'EncounterKey': 89472972, 'Time': '2020-06-02T10:00:00', 'Type': '2 Ambulant'}, {'EncounterKey': 98993713, 'Time': '2020-10-26T10:00:00', 'Type': '2 Ambulant'}, {'EncounterKey': 109651376, 'Time': '2020-12-23T10:00:00', 'Type': '2 Ambulant'}, {'EncounterKey': 77023191, 'Time': '2019-10-10T00:00:00', 'Type': '2 Ambulant'}, {'EncounterKey': 74468447, 'Time': '2019-09-06T00:00:00', 'Type': 'cancelled_other'}, {'EncounterKey': 82656113, 'Time': '2020-10-22T00:00:00', 'Type': 'cancelled_government'}, {'EncounterKey': 54959724, 'Time': '2019-01-24T00:00:00', 'Type': 'cancelled_government'}, {'EncounterKey': 48375860, 'Time': '2018-07-27T00:00:00', 'Type': 'cancelled_government'}, {'EncounterKey': 100370362, 'Time': '2020-09-28T00:00:00', 'Type': 'cancelled_moved_forward'}, {'EncounterKey': 99637358, 'Time': '2020-09-09T00:00:00', 'Type': 'cancelled_other'}, {'EncounterKey': 103792118, 'Time': '2021-01-25T00:00:00', 'Type': 'cancelled_government'}, {'EncounterKey': 111074853, 'Time': '2021-04-06T00:00:00', 'Type': 'cancelled_patient'}, {'EncounterKey': 100373760, 'Time': '2020-09-28T00:00:00', 'Type': 'cancelled_moved_forward'}, {'EncounterKey': 60197727, 'Time': '2019-01-25T00:00:00', 'Type': 'cancelled_patient'}, {'EncounterKey': 95960195, 'Time': '2020-07-10T00:00:00', 'Type': 'cancelled_other'}, {'EncounterKey': 75767210, 'Time': '2019-10-15T00:00:00', 'Type': 'cancelled_moved'}, {'EncounterKey': 14422330, 'Time': '2017-03-17T00:00:00', 'Type': 'cancelled_patient'}, {'EncounterKey': 85452970, 'Time': '2020-04-14T00:00:00', 'Type': 'cancelled_government'}, {'EncounterKey': 49695733, 'Time': '2018-08-30T00:00:00', 'Type': 'cancelled_postponed'}, {'EncounterKey': 760585, 'Time': '2018-07-16T00:00:00', 'Type': 'cancelled_government'}, {'EncounterKey': 48340715, 'Time': '2018-07-24T00:00:00', 'Type': 'cancelled_other'}, {'EncounterKey': 48337910, 'Time': '2018-07-24T00:00:00', 'Type': 'cancelled_other'}, {'EncounterKey': 95966604, 'Time': '2020-07-10T00:00:00', 'Type': 'cancelled_other'}, {'EncounterKey': 50362136, 'Time': '2018-08-28T00:00:00', 'Type': 'cancelled_other'}, {'EncounterKey': 62185011, 'Time': '2019-09-04T00:00:00', 'Type': 'cancelled_government'}, {'EncounterKey': 47978431, 'Time': '2018-08-17T00:00:00', 'Type': 'cancelled_patient'}, {'EncounterKey': 100354397, 'Time': '2020-11-24T00:00:00', 'Type': 'cancelled_no_show'}, {'EncounterKey': 72640426, 'Time': '2019-10-18T00:00:00', 'Type': 'cancelled_hospitalized'}, {'EncounterKey': 48417701, 'Time': '2018-07-27T00:00:00', 'Type': 'cancelled_government'}, {'EncounterKey': 13535942, 'Time': '2017-03-17T00:00:00', 'Type': 'cancelled_other'}, {'EncounterKey': 48383125, 'Time': '2018-07-27T00:00:00', 'Type': 'cancelled_government'}, {'EncounterKey': 107607846, 'Time': '2020-12-01T00:00:00', 'Type': 'somatic_admission'}, {'EncounterKey': 50401554, 'Time': '2018-08-30T00:00:00', 'Type': 'somatic_admission'}, {'EncounterKey': 98089954, 'Time': '2020-09-07T00:00:00', 'Type': 'somatic_admission'}, {'EncounterKey': 47558147, 'Time': '2018-07-09T00:00:00', 'Type': 'psych_admission'}, {'EncounterKey': 96205481, 'Time': '2020-07-30T00:00:00', 'Type': 'somatic_admission'}, {'EncounterKey': 107607846, 'Time': '2020-12-02T15:21:00', 'Type': 'somatic_discharge'}, {'EncounterKey': 50401554, 'Time': '2018-08-31T13:49:00', 'Type': 'somatic_discharge'}, {'EncounterKey': 98089954, 'Time': '2020-09-09T13:00:00', 'Type': 'somatic_discharge'}, {'EncounterKey': 47558147, 'Time': '2018-08-06T12:09:00', 'Type': 'psych_discharge'}, {'EncounterKey': 96205481, 'Time': '2020-07-30T15:09:00', 'Type': 'somatic_discharge'}, {'EncounterKey': 48873799, 'Time': '2017-05-19', 'Type': 'DF32_33'}, {'EncounterKey': 47558147, 'Time': '2018-07-09', 'Type': 'DF32_33'}, {'EncounterKey': 47558147, 'Time': '2018-07-09', 'Type': 'DF32_33'}, {'EncounterKey': 77542084, 'Time': '2019-11-11', 'Type': 'DF32_33'}, {'EncounterKey': 67008047, 'Time': '2019-08-06', 'Type': 'DF32_33'}, {'EncounterKey': 63453279, 'Time': '2019-05-06', 'Type': 'DF32_33'}, {'EncounterKey': 77853200, 'Time': '2019-10-23', 'Type': 'DF32_33'}, {'EncounterKey': 59332521, 'Time': '2019-03-12', 'Type': 'DF32_33'}, {'EncounterKey': 109651376, 'Time': '2020-12-23', 'Type': 'DF32_33'}, {'EncounterKey': 109641690, 'Time': '2020-12-23', 'Type': 'DF32_33'}, {'EncounterKey': 92894007, 'Time': '2020-08-25', 'Type': 'DF32_33'}, {'EncounterKey': 79317322, 'Time': '2020-01-23', 'Type': 'DF32_33'}, {'EncounterKey': 98993713, 'Time': '2020-10-26', 'Type': 'DF32_33'}, {'EncounterKey': 100221138, 'Time': '2020-09-11', 'Type': 'DF32_33'}, {'EncounterKey': 89472972, 'Time': '2020-06-02', 'Type': 'DF32_33'}, {'EncounterKey': 89428576, 'Time': '2020-04-14', 'Type': 'DF32_33'}, {'EncounterKey': 104070190, 'Time': '2021-01-12', 'Type': 'DF32_33'}, {'EncounterKey': 126834454, 'Time': '2021-10-04', 'Type': 'DF32_33'}, {'EncounterKey': 124446867, 'Time': '2021-07-01', 'Type': 'DF32_33'}, {'EncounterKey': 122004579, 'Time': '2021-06-02', 'Type': 'DF32_33'}, {'EncounterKey': 131055337, 'Time': '2021-12-06', 'Type': 'DF32_33'}, {'EncounterKey': 122027337, 'Time': '2021-06-04', 'Type': 'DF32_33'}, {'EncounterKey': 122020993, 'Time': '2021-08-09', 'Type': 'DF32_33'}, {'EncounterKey': 117411991, 'Time': '2021-04-19', 'Type': 'DF32_33'}, {'EncounterKey': 137986472, 'Time': '2021-12-22', 'Type': 'DF32_33'}, {'EncounterKey': 137993684, 'Time': '2021-12-22', 'Type': 'DF32_33'}, {'EncounterKey': 137946054, 'Time': '2021-12-22', 'Type': 'DF32_33'}, {'EncounterKey': 136641969, 'Time': '2021-12-08', 'Type': 'DF32_33'}, {'EncounterKey': 48873799, 'Time': '2017-05-19', 'Type': 'DF3'}, {'EncounterKey': 47558147, 'Time': '2018-07-09', 'Type': 'DF3'}, {'EncounterKey': 47558147, 'Time': '2018-07-09', 'Type': 'DF3'}, {'EncounterKey': 77542084, 'Time': '2019-11-11', 'Type': 'DF3'}, {'EncounterKey': 67008047, 'Time': '2019-08-06', 'Type': 'DF3'}, {'EncounterKey': 63453279, 'Time': '2019-05-06', 'Type': 'DF3'}, {'EncounterKey': 77853200, 'Time': '2019-10-23', 'Type': 'DF3'}, {'EncounterKey': 59332521, 'Time': '2019-03-12', 'Type': 'DF3'}, {'EncounterKey': 109651376, 'Time': '2020-12-23', 'Type': 'DF3'}, {'EncounterKey': 109641690, 'Time': '2020-12-23', 'Type': 'DF3'}, {'EncounterKey': 92894007, 'Time': '2020-08-25', 'Type': 'DF3'}, {'EncounterKey': 79317322, 'Time': '2020-01-23', 'Type': 'DF3'}, {'EncounterKey': 98993713, 'Time': '2020-10-26', 'Type': 'DF3'}, {'EncounterKey': 100221138, 'Time': '2020-09-11', 'Type': 'DF3'}, {'EncounterKey': 89472972, 'Time': '2020-06-02', 'Type': 'DF3'}, {'EncounterKey': 89428576, 'Time': '2020-04-14', 'Type': 'DF3'}, {'EncounterKey': 104070190, 'Time': '2021-01-12', 'Type': 'DF3'}, {'EncounterKey': 126834454, 'Time': '2021-10-04', 'Type': 'DF3'}, {'EncounterKey': 124446867, 'Time': '2021-07-01', 'Type': 'DF3'}, {'EncounterKey': 122004579, 'Time': '2021-06-02', 'Type': 'DF3'}, {'EncounterKey': 131055337, 'Time': '2021-12-06', 'Type': 'DF3'}, {'EncounterKey': 122027337, 'Time': '2021-06-04', 'Type': 'DF3'}, {'EncounterKey': 122020993, 'Time': '2021-08-09', 'Type': 'DF3'}, {'EncounterKey': 117411991, 'Time': '2021-04-19', 'Type': 'DF3'}, {'EncounterKey': 137986472, 'Time': '2021-12-22', 'Type': 'DF3'}, {'EncounterKey': 137993684, 'Time': '2021-12-22', 'Type': 'DF3'}, {'EncounterKey': 137946054, 'Time': '2021-12-22', 'Type': 'DF3'}, {'EncounterKey': 136641969, 'Time': '2021-12-08', 'Type': 'DF3'}], 'Coercion': []})\n"
        },
        {
          "output_type": "stream",
          "name": "stderr",
          "text": "Vocab: 100%|██████████| 72108/72108 [00:02<00:00, 35527.20it/s]\n"
        }
      ],
      "execution_count": 3,
      "metadata": {
        "gather": {
          "logged": 1690442599491
        }
      }
    },
    {
      "cell_type": "code",
      "source": [
        "# Data loader\r\n",
        "data = process_data_CoercionRisk(\r\n",
        "    data_json, vocab_list, word_to_idx, mask_prob=0.20, Azure=Azure\r\n",
        ")\r\n",
        "sample_data = CoercionRiskDataset(data)\r\n",
        "sample = next(iter(sample_data))"
      ],
      "outputs": [
        {
          "output_type": "stream",
          "name": "stderr",
          "text": "  0%|          | 129/72108 [00:01<14:06, 85.00it/s]\n"
        },
        {
          "output_type": "stream",
          "name": "stdout",
          "text": "code_list ['Ambulant besøg']\ndate_list ['2016-09-13T12:00:00']\ncode_list ['Ambulant besøg', '2 Ambulant']\ndate_list ['2016-10-04T12:15:00', '2016-10-04T12:15:00']\ncode_list ['DF50_59', 'DF5', 'Ambulant besøg']\ndate_list ['2017-05-19', '2017-05-19', '2017-06-07T13:00:00']\ncode_list ['Aftale', 'cancelled_patient']\ndate_list ['2017-05-23T11:00:00', '2017-05-24T00:00:00']\ncode_list ['Ambulant besøg']\ndate_list ['2017-06-26T11:00:00']\ncode_list ['cancelled_patient', 'Aftale']\ndate_list ['2017-07-07T00:00:00', '2017-07-07T09:30:00']\ncode_list ['Behandlingskontakt', '4 Ambulant us/op']\ndate_list ['2017-07-24T00:00:00', '2017-07-24T00:00:00']\ncode_list ['Behandlingskontakt', '4 Ambulant us/op']\ndate_list ['2017-07-24T00:00:00', '2017-07-24T00:00:00']\ncode_list ['Ambulant besøg']\ndate_list ['2017-07-24T08:40:00']\ncode_list ['Ambulant besøg']\ndate_list ['2017-08-18T09:30:00']\ncode_list ['cancelled_other', 'Aftale']\ndate_list ['2017-08-21T00:00:00', '2017-09-29T11:00:00']\ncode_list ['Ambulant besøg', '2 Ambulant']\ndate_list ['2017-08-25T09:40:00', '2017-08-25T09:40:00']\ncode_list ['Ambulant besøg', '2 Ambulant']\ndate_list ['2017-09-01T09:40:00', '2017-09-01T09:40:00']\ncode_list ['cancelled_patient', 'Aftale']\ndate_list ['2017-09-29T00:00:00', '2017-09-29T12:30:00']\ncode_list ['Ambulant besøg']\ndate_list ['2017-11-01T13:00:00']\ncode_list ['cancelled_other', 'Aftale']\ndate_list ['2017-11-22T00:00:00', '2017-12-01T09:30:00']\ncode_list ['Ambulant besøg']\ndate_list ['2017-12-01T11:00:00']\ncode_list ['cancelled_government', 'Aftale']\ndate_list ['2017-12-10T00:00:00', '2018-01-19T11:00:00']\ncode_list ['cancelled_other', 'Aftale']\ndate_list ['2017-12-14T00:00:00', '2018-01-05T08:30:00']\ncode_list ['cancelled_patient', 'Aftale']\ndate_list ['2018-01-03T00:00:00', '2018-01-11T09:30:00']\ncode_list ['Ambulant besøg']\ndate_list ['2018-01-05T09:30:00']\ncode_list ['Ambulant besøg']\ndate_list ['2018-01-16T11:00:00']\ncode_list ['Ambulant besøg']\ndate_list ['2018-02-16T11:00:00']\ncode_list ['Behandlingskontakt', '2 Ambulant']\ndate_list ['2018-03-07T09:00:00', '2018-03-07T09:00:00']\ncode_list ['Behandlingskontakt', '2 Ambulant']\ndate_list ['2018-05-09T13:00:00', '2018-05-09T13:00:00']\ncode_list ['Ambulant besøg']\ndate_list ['2018-08-22T14:00:00']\ncode_list ['Behandlingskontakt', '4 Ambulant us/op']\ndate_list ['2018-11-16T00:00:00', '2018-11-16T00:00:00']\ncode_list ['Behandlingskontakt', '2 Ambulant']\ndate_list ['2018-11-16T13:00:00', '2018-11-16T13:00:00']\ncode_list ['cancelled_government', 'Aftale']\ndate_list ['2018-12-03T00:00:00', '2018-12-11T11:30:00']\ncode_list ['Behandlingskontakt', '2 Ambulant']\ndate_list ['2018-12-03T11:50:00', '2018-12-03T11:50:00']\ncode_list ['Behandlingskontakt', '2 Ambulant']\ndate_list ['2018-12-12T11:10:00', '2018-12-12T11:10:00']\ncode_list ['DF32_33', 'DF3', 'Ambulant besøg', '2 Ambulant']\ndate_list ['2019-05-06', '2019-05-06', '2019-05-06T10:00:00', '2019-05-06T10:00:00']\ncode_list ['DF32_33', 'DF3']\ndate_list ['2019-05-07', '2019-05-07']\ncode_list ['DF32_33', 'DF3']\ndate_list ['2019-05-15', '2019-05-15']\ncode_list ['DF32_33', 'DF3', 'Ambulant besøg', '2 Ambulant']\ndate_list ['2019-05-15', '2019-05-15', '2019-05-15T14:30:00', '2019-05-15T14:30:00']\ncode_list ['DF32_33', 'DF3', 'Ambulant besøg', '2 Ambulant']\ndate_list ['2019-05-23', '2019-05-23', '2019-05-23T10:45:00', '2019-05-23T10:45:00']\ncode_list ['DF32_33', 'DF3']\ndate_list ['2019-06-03', '2019-06-03']\ncode_list ['DF32_33', 'DF3', 'Ambulant besøg', '2 Ambulant']\ndate_list ['2019-06-03', '2019-06-03', '2019-06-03T09:15:00', '2019-06-03T09:15:00']\ncode_list ['cancelled_other', 'Aftale', '2 Ambulant']\ndate_list ['2019-06-03T00:00:00', '2019-08-30T09:00:00', '2019-08-30T09:00:00']\ncode_list ['cancelled_other', 'Aftale', '2 Ambulant']\ndate_list ['2019-06-03T00:00:00', '2019-06-07T09:00:00', '2019-06-07T09:00:00']\ncode_list ['cancelled_other', 'Aftale', '2 Ambulant']\ndate_list ['2019-06-03T00:00:00', '2019-08-02T09:00:00', '2019-08-02T09:00:00']\ncode_list ['cancelled_other', 'Aftale', '2 Ambulant']\ndate_list ['2019-06-03T00:00:00', '2019-06-14T09:00:00', '2019-06-14T09:00:00']\ncode_list ['cancelled_other', 'Aftale', '2 Ambulant']\ndate_list ['2019-06-03T00:00:00', '2019-07-12T09:00:00', '2019-07-12T09:00:00']\ncode_list ['cancelled_other', 'Aftale', '2 Ambulant']\ndate_list ['2019-06-03T00:00:00', '2019-08-16T09:00:00', '2019-08-16T09:00:00']\ncode_list ['cancelled_other', 'Aftale', '2 Ambulant']\ndate_list ['2019-06-03T00:00:00', '2019-09-20T09:00:00', '2019-09-20T09:00:00']\ncode_list ['cancelled_other', 'Aftale', '2 Ambulant']\ndate_list ['2019-06-03T00:00:00', '2019-06-21T09:00:00', '2019-06-21T09:00:00']\ncode_list ['cancelled_other', 'Aftale', '2 Ambulant']\ndate_list ['2019-06-03T00:00:00', '2019-06-28T09:00:00', '2019-06-28T09:00:00']\ncode_list ['cancelled_other', 'Aftale', '2 Ambulant']\ndate_list ['2019-06-03T00:00:00', '2019-09-13T09:00:00', '2019-09-13T09:00:00']\ncode_list ['cancelled_other', 'Aftale', '2 Ambulant']\ndate_list ['2019-06-03T00:00:00', '2019-08-09T09:00:00', '2019-08-09T09:00:00']\ncode_list ['cancelled_other', 'Aftale', '2 Ambulant']\ndate_list ['2019-06-03T00:00:00', '2019-07-05T09:00:00', '2019-07-05T09:00:00']\ncode_list ['cancelled_other', 'Aftale', '2 Ambulant']\ndate_list ['2019-06-03T00:00:00', '2019-08-23T09:00:00', '2019-08-23T09:00:00']\ncode_list ['cancelled_other', 'Aftale', '2 Ambulant']\ndate_list ['2019-06-03T00:00:00', '2019-07-26T09:00:00', '2019-07-26T09:00:00']\ncode_list ['cancelled_other', 'Aftale', '2 Ambulant']\ndate_list ['2019-06-03T00:00:00', '2019-07-19T09:00:00', '2019-07-19T09:00:00']\ncode_list ['cancelled_other', 'Aftale', '2 Ambulant']\ndate_list ['2019-06-03T00:00:00', '2019-09-06T09:00:00', '2019-09-06T09:00:00']\ncode_list ['DF32_33', 'DF3', 'Ambulant besøg', '2 Ambulant']\ndate_list ['2019-06-07', '2019-06-07', '2019-06-07T09:00:00', '2019-06-07T09:00:00']\ncode_list ['cancelled_other', 'Aftale', '2 Ambulant']\ndate_list ['2019-06-12T00:00:00', '2019-06-14T09:00:00', '2019-06-14T09:00:00']\ncode_list ['cancelled_other', 'Aftale', '2 Ambulant']\ndate_list ['2019-06-12T00:00:00', '2019-07-26T09:00:00', '2019-07-26T09:00:00']\ncode_list ['cancelled_other', 'Aftale', '2 Ambulant']\ndate_list ['2019-06-12T00:00:00', '2019-07-12T09:00:00', '2019-07-12T09:00:00']\ncode_list ['cancelled_other', 'Aftale', '2 Ambulant']\ndate_list ['2019-06-12T00:00:00', '2019-07-19T09:00:00', '2019-07-19T09:00:00']\ncode_list ['DF32_33', 'DF3', 'Ambulant besøg', '2 Ambulant']\ndate_list ['2019-06-21', '2019-06-21', '2019-06-21T09:00:00', '2019-06-21T09:00:00']\ncode_list ['DF32_33', 'DF3', 'Ambulant besøg', '2 Ambulant']\ndate_list ['2019-06-28', '2019-06-28', '2019-06-28T09:00:00', '2019-06-28T09:00:00']\ncode_list ['DF32_33', 'DF3', 'Ambulant besøg', '2 Ambulant']\ndate_list ['2019-07-05', '2019-07-05', '2019-07-05T11:30:00', '2019-07-05T11:30:00']\ncode_list ['DF32_33', 'DF3', 'Ambulant besøg', '2 Ambulant']\ndate_list ['2019-07-05', '2019-07-05', '2019-07-05T09:00:00', '2019-07-05T09:00:00']\ncode_list ['DF32_33', 'DF3', 'Ambulant besøg', '2 Ambulant']\ndate_list ['2019-08-02', '2019-08-02', '2019-08-02T09:00:00', '2019-08-02T09:00:00']\ncode_list ['cancelled_patient', 'Aftale', '2 Ambulant']\ndate_list ['2019-08-07T00:00:00', '2019-08-09T09:00:00', '2019-08-09T09:00:00']\ncode_list ['DF32_33', 'DF3', 'Ambulant besøg', '2 Ambulant']\ndate_list ['2019-08-16', '2019-08-16', '2019-08-16T11:30:00', '2019-08-16T11:30:00']\ncode_list ['DF32_33', 'DF3', 'Ambulant besøg', '2 Ambulant']\ndate_list ['2019-08-16', '2019-08-16', '2019-08-16T09:00:00', '2019-08-16T09:00:00']\ncode_list ['cancelled_treatment_completed', 'Aftale', '2 Ambulant']\ndate_list ['2019-08-16T00:00:00', '2019-09-20T09:00:00', '2019-09-20T09:00:00']\ncode_list ['cancelled_treatment_completed', 'Aftale', '2 Ambulant']\ndate_list ['2019-08-16T00:00:00', '2019-08-23T09:00:00', '2019-08-23T09:00:00']\ncode_list ['cancelled_treatment_completed', 'Aftale', '2 Ambulant']\ndate_list ['2019-08-16T00:00:00', '2019-09-13T09:00:00', '2019-09-13T09:00:00']\ncode_list ['cancelled_treatment_completed', 'Aftale', '2 Ambulant']\ndate_list ['2019-08-16T00:00:00', '2019-08-30T09:00:00', '2019-08-30T09:00:00']\ncode_list ['cancelled_treatment_completed', 'Aftale', '2 Ambulant']\ndate_list ['2019-08-16T00:00:00', '2019-09-06T09:00:00', '2019-09-06T09:00:00']\ncode_list ['DF32_33', 'DF3', 'Ambulant besøg', '2 Ambulant']\ndate_list ['2019-08-30', '2019-08-30', '2019-08-30T09:00:00', '2019-08-30T09:00:00']\ncode_list ['DF32_33', 'DF3', 'Ambulant besøg', '2 Ambulant']\ndate_list ['2019-09-06', '2019-09-06', '2019-09-06T09:00:00', '2019-09-06T09:00:00']\ncode_list ['DF32_33', 'DF3', 'Ambulant besøg', '2 Ambulant']\ndate_list ['2019-09-13', '2019-09-13', '2019-09-13T12:15:00', '2019-09-13T12:15:00']\ncode_list ['DF32_33', 'DF3', 'Ambulant besøg', '2 Ambulant']\ndate_list ['2019-09-13', '2019-09-13', '2019-09-13T09:00:00', '2019-09-13T09:00:00']\ncode_list ['DF32_33', 'DF3', 'Ambulant besøg', '2 Ambulant']\ndate_list ['2019-09-20', '2019-09-20', '2019-09-20T09:00:00', '2019-09-20T09:00:00']\ncode_list ['DF32_33', 'DF3', 'Ambulant besøg', '2 Ambulant']\ndate_list ['2019-09-26', '2019-09-26', '2019-09-26T15:00:00', '2019-09-26T15:00:00']\ncode_list ['DF32_33', 'DF3', 'Telefonkontakt', '2 Ambulant']\ndate_list ['2019-10-09', '2019-10-09', '2019-10-09T00:00:00', '2019-10-09T00:00:00']\ncode_list ['DF32_33', 'DF3']\ndate_list ['2019-10-09', '2019-10-09']\ncode_list ['DF32_33', 'DF3', 'Ambulant besøg', '2 Ambulant']\ndate_list ['2019-10-17', '2019-10-17', '2019-10-17T10:00:00', '2019-10-17T10:00:00']\ncode_list ['cancelled_patient', 'Aftale', '2 Ambulant']\ndate_list ['2019-10-21T00:00:00', '2019-10-22T09:15:00', '2019-10-22T09:15:00']\ncode_list ['DF32_33', 'DF3', 'Ambulant besøg', '2 Ambulant']\ndate_list ['2019-11-01', '2019-11-01', '2019-11-01T10:00:00', '2019-11-01T10:00:00']\ncode_list ['somatic_admission', 'Behandlingskontakt', '0 Indlagt', 'somatic_discharge']\ndate_list ['2019-12-10T00:00:00', '2019-12-10T00:46:00', '2019-12-10T00:46:00', '2019-12-10T14:07:00']\ncode_list ['cancelled_other', 'Aftale', '2 Ambulant']\ndate_list ['2020-01-31T00:00:00', '2020-12-10T11:00:00', '2020-12-10T11:00:00']\ncode_list ['cancelled_other', 'Aftale', '2 Ambulant']\ndate_list ['2020-01-31T00:00:00', '2020-02-07T10:50:00', '2020-02-07T10:50:00']\ncode_list ['cancelled_other', 'Aftale', '2 Ambulant']\ndate_list ['2020-01-31T00:00:00', '2020-12-10T11:00:00', '2020-12-10T11:00:00']\ncode_list ['cancelled_other', 'Aftale', '2 Ambulant']\ndate_list ['2020-01-31T00:00:00', '2020-12-10T11:00:00', '2020-12-10T11:00:00']\ncode_list ['Ambulant besøg', '2 Ambulant']\ndate_list ['2020-01-31T09:30:00', '2020-01-31T09:30:00']\ncode_list ['Behandlingskontakt', '2 Ambulant']\ndate_list ['2020-02-07T10:50:00', '2020-02-07T10:50:00']\ncode_list ['Ambulant besøg', '2 Ambulant']\ndate_list ['2020-02-18T18:10:00', '2020-02-18T18:10:00']\ncode_list ['Ambulant besøg', '2 Ambulant']\ndate_list ['2020-08-11T13:20:00', '2020-08-11T13:20:00']\ncode_list ['somatic_admission', 'Behandlingskontakt', '0 Indlagt', 'somatic_discharge']\ndate_list ['2020-08-16T00:00:00', '2020-08-16T03:15:00', '2020-08-16T03:15:00', '2020-08-16T16:32:00']\ncode_list ['Behandlingskontakt', '3 Akut ambulant']\ndate_list ['2020-11-04T00:00:00', '2020-11-04T00:00:00']\ncode_list ['cancelled_government', 'Aftale', '2 Ambulant']\ndate_list ['2021-02-08T00:00:00', '2021-02-11T11:00:00', '2021-02-11T11:00:00']\ncode_list ['cancelled_patient', 'Aftale', '2 Ambulant']\ndate_list ['2021-02-10T00:00:00', '2021-02-10T11:00:00', '2021-02-10T11:00:00']\ncode_list ['Ambulant besøg']\ndate_list ['2016-07-07T11:00:00']\ncode_list ['cancelled_government', 'Aftale']\ndate_list ['2016-08-18T00:00:00', '2016-09-16T11:30:00']\ncode_list ['Ambulant besøg']\ndate_list ['2016-09-19T11:30:00']\ncode_list ['cancelled_patient', 'Aftale']\ndate_list ['2017-01-11T00:00:00', '2017-01-13T09:00:00']\ncode_list ['Ambulant besøg']\ndate_list ['2017-02-03T10:00:00']\ncode_list ['Ambulant besøg']\ndate_list ['2017-03-16T09:00:00']\ncode_list ['cancelled_other', 'Aftale']\ndate_list ['2017-05-14T00:00:00', '2017-05-23T16:00:00']\ncode_list ['cancelled_government', 'Aftale']\ndate_list ['2017-05-18T00:00:00', '2017-06-22T09:00:00']\ncode_list ['cancelled_other', 'Aftale']\ndate_list ['2017-05-22T00:00:00', '2017-05-23T16:00:00']\ncode_list ['cancelled_other', 'Aftale']\ndate_list ['2017-05-23T00:00:00', '2017-05-24T13:00:00']\ncode_list ['Ambulant besøg']\ndate_list ['2017-06-01T10:40:00']\ncode_list ['cancelled_patient', 'Aftale']\ndate_list ['2017-06-14T00:00:00', '2017-06-16T11:20:00']\ncode_list ['somatic_admission', 'Behandlingskontakt', '5 Indlægges til us/op', 'somatic_discharge']\ndate_list ['2017-06-20T00:00:00', '2017-06-20T09:23:48', '2017-06-20T09:23:48', '2017-06-21T15:59:00']\ncode_list ['Ambulant besøg', '2 Ambulant']\ndate_list ['2017-07-11T13:40:00', '2017-07-11T13:40:00']\ncode_list ['psych_admission', 'coercion_Tvangsindlæggelse', 'coercion_Beroligende medicin', 'Behandlingskontakt', '0 Indlagt', 'coercion_1', 'coercion_3', 'coercion_3', 'coercion_3', 'coercion_3', 'coercion_3', 'coercion_1', 'psych_discharge', 'coercion_3']\ndate_list ['2017-08-29T00:00:00', '2017-08-29T00:00:00', '2017-08-29T00:00:00', '2017-08-29T19:05:00', '2017-08-29T19:05:00', '2017-08-30', '2017-08-30', '2017-08-30', '2017-09-01', '2017-09-01', '2017-09-01', '2017-09-01', '2017-09-01T10:00:00', 'NaT']\n"
        },
        {
          "output_type": "error",
          "ename": "ValueError",
          "evalue": "time data 'NaT' does not match format '%Y-%m-%d'",
          "traceback": [
            "\u001b[0;31m---------------------------------------------------------------------------\u001b[0m",
            "\u001b[0;31mValueError\u001b[0m                                Traceback (most recent call last)",
            "Cell \u001b[0;32mIn[4], line 2\u001b[0m\n\u001b[1;32m      1\u001b[0m \u001b[38;5;66;03m# Data loader\u001b[39;00m\n\u001b[0;32m----> 2\u001b[0m data \u001b[38;5;241m=\u001b[39m \u001b[43mprocess_data_CoercionRisk\u001b[49m\u001b[43m(\u001b[49m\n\u001b[1;32m      3\u001b[0m \u001b[43m    \u001b[49m\u001b[43mdata_json\u001b[49m\u001b[43m,\u001b[49m\u001b[43m \u001b[49m\u001b[43mvocab_list\u001b[49m\u001b[43m,\u001b[49m\u001b[43m \u001b[49m\u001b[43mword_to_idx\u001b[49m\u001b[43m,\u001b[49m\u001b[43m \u001b[49m\u001b[43mmask_prob\u001b[49m\u001b[38;5;241;43m=\u001b[39;49m\u001b[38;5;241;43m0.20\u001b[39;49m\u001b[43m,\u001b[49m\u001b[43m \u001b[49m\u001b[43mAzure\u001b[49m\u001b[38;5;241;43m=\u001b[39;49m\u001b[43mAzure\u001b[49m\n\u001b[1;32m      4\u001b[0m \u001b[43m)\u001b[49m\n\u001b[1;32m      5\u001b[0m sample_data \u001b[38;5;241m=\u001b[39m CoercionRiskDataset(data)\n\u001b[1;32m      6\u001b[0m sample \u001b[38;5;241m=\u001b[39m \u001b[38;5;28mnext\u001b[39m(\u001b[38;5;28miter\u001b[39m(sample_data))\n",
            "File \u001b[0;32m/mnt/batch/tasks/shared/LS_root/mounts/clusters/mikkel16c128/code/Users/mikkel.sinkjaer/transformerEHR/dataLoader/dataLoaderMLM.py:333\u001b[0m, in \u001b[0;36mprocess_data_CoercionRisk\u001b[0;34m(data, vocab_list, word_to_idx, START_TOKEN, SEP_TOKEN, PAD_TOKEN, EMPTY_TOKEN_NS, ref_date, max_length, mask_prob, Azure)\u001b[0m\n\u001b[1;32m    331\u001b[0m     \u001b[38;5;28mprint\u001b[39m(\u001b[38;5;124m'\u001b[39m\u001b[38;5;124mcode_list\u001b[39m\u001b[38;5;124m'\u001b[39m,code_list)\n\u001b[1;32m    332\u001b[0m     \u001b[38;5;28mprint\u001b[39m(\u001b[38;5;124m'\u001b[39m\u001b[38;5;124mdate_list\u001b[39m\u001b[38;5;124m'\u001b[39m, date_list)\n\u001b[0;32m--> 333\u001b[0m date_sequence \u001b[38;5;241m+\u001b[39m\u001b[38;5;241m=\u001b[39m [\n\u001b[1;32m    334\u001b[0m     (datetime\u001b[38;5;241m.\u001b[39mstrptime(date[:\u001b[38;5;241m10\u001b[39m], \u001b[38;5;124m\"\u001b[39m\u001b[38;5;124m%\u001b[39m\u001b[38;5;124mY-\u001b[39m\u001b[38;5;124m%\u001b[39m\u001b[38;5;124mm-\u001b[39m\u001b[38;5;132;01m%d\u001b[39;00m\u001b[38;5;124m\"\u001b[39m) \u001b[38;5;241m-\u001b[39m ref_date)\u001b[38;5;241m.\u001b[39mdays\n\u001b[1;32m    335\u001b[0m     \u001b[38;5;28;01mfor\u001b[39;00m date \u001b[38;5;129;01min\u001b[39;00m date_list\n\u001b[1;32m    336\u001b[0m ]\n\u001b[1;32m    337\u001b[0m age_sequence \u001b[38;5;241m+\u001b[39m\u001b[38;5;241m=\u001b[39m [\n\u001b[1;32m    338\u001b[0m     relativedelta(\n\u001b[1;32m    339\u001b[0m         datetime\u001b[38;5;241m.\u001b[39mstrptime(date[:\u001b[38;5;241m10\u001b[39m], \u001b[38;5;124m\"\u001b[39m\u001b[38;5;124m%\u001b[39m\u001b[38;5;124mY-\u001b[39m\u001b[38;5;124m%\u001b[39m\u001b[38;5;124mm-\u001b[39m\u001b[38;5;132;01m%d\u001b[39;00m\u001b[38;5;124m\"\u001b[39m), birth_date\n\u001b[0;32m   (...)\u001b[0m\n\u001b[1;32m    345\u001b[0m     \u001b[38;5;28;01mfor\u001b[39;00m date \u001b[38;5;129;01min\u001b[39;00m date_list\n\u001b[1;32m    346\u001b[0m ]\n\u001b[1;32m    347\u001b[0m code_sequence \u001b[38;5;241m+\u001b[39m\u001b[38;5;241m=\u001b[39m code_list \u001b[38;5;241m+\u001b[39m [SEP_TOKEN]\n",
            "File \u001b[0;32m/mnt/batch/tasks/shared/LS_root/mounts/clusters/mikkel16c128/code/Users/mikkel.sinkjaer/transformerEHR/dataLoader/dataLoaderMLM.py:334\u001b[0m, in \u001b[0;36m<listcomp>\u001b[0;34m(.0)\u001b[0m\n\u001b[1;32m    331\u001b[0m     \u001b[38;5;28mprint\u001b[39m(\u001b[38;5;124m'\u001b[39m\u001b[38;5;124mcode_list\u001b[39m\u001b[38;5;124m'\u001b[39m,code_list)\n\u001b[1;32m    332\u001b[0m     \u001b[38;5;28mprint\u001b[39m(\u001b[38;5;124m'\u001b[39m\u001b[38;5;124mdate_list\u001b[39m\u001b[38;5;124m'\u001b[39m, date_list)\n\u001b[1;32m    333\u001b[0m date_sequence \u001b[38;5;241m+\u001b[39m\u001b[38;5;241m=\u001b[39m [\n\u001b[0;32m--> 334\u001b[0m     (\u001b[43mdatetime\u001b[49m\u001b[38;5;241;43m.\u001b[39;49m\u001b[43mstrptime\u001b[49m\u001b[43m(\u001b[49m\u001b[43mdate\u001b[49m\u001b[43m[\u001b[49m\u001b[43m:\u001b[49m\u001b[38;5;241;43m10\u001b[39;49m\u001b[43m]\u001b[49m\u001b[43m,\u001b[49m\u001b[43m \u001b[49m\u001b[38;5;124;43m\"\u001b[39;49m\u001b[38;5;124;43m%\u001b[39;49m\u001b[38;5;124;43mY-\u001b[39;49m\u001b[38;5;124;43m%\u001b[39;49m\u001b[38;5;124;43mm-\u001b[39;49m\u001b[38;5;132;43;01m%d\u001b[39;49;00m\u001b[38;5;124;43m\"\u001b[39;49m\u001b[43m)\u001b[49m \u001b[38;5;241m-\u001b[39m ref_date)\u001b[38;5;241m.\u001b[39mdays\n\u001b[1;32m    335\u001b[0m     \u001b[38;5;28;01mfor\u001b[39;00m date \u001b[38;5;129;01min\u001b[39;00m date_list\n\u001b[1;32m    336\u001b[0m ]\n\u001b[1;32m    337\u001b[0m age_sequence \u001b[38;5;241m+\u001b[39m\u001b[38;5;241m=\u001b[39m [\n\u001b[1;32m    338\u001b[0m     relativedelta(\n\u001b[1;32m    339\u001b[0m         datetime\u001b[38;5;241m.\u001b[39mstrptime(date[:\u001b[38;5;241m10\u001b[39m], \u001b[38;5;124m\"\u001b[39m\u001b[38;5;124m%\u001b[39m\u001b[38;5;124mY-\u001b[39m\u001b[38;5;124m%\u001b[39m\u001b[38;5;124mm-\u001b[39m\u001b[38;5;132;01m%d\u001b[39;00m\u001b[38;5;124m\"\u001b[39m), birth_date\n\u001b[0;32m   (...)\u001b[0m\n\u001b[1;32m    345\u001b[0m     \u001b[38;5;28;01mfor\u001b[39;00m date \u001b[38;5;129;01min\u001b[39;00m date_list\n\u001b[1;32m    346\u001b[0m ]\n\u001b[1;32m    347\u001b[0m code_sequence \u001b[38;5;241m+\u001b[39m\u001b[38;5;241m=\u001b[39m code_list \u001b[38;5;241m+\u001b[39m [SEP_TOKEN]\n",
            "File \u001b[0;32m/anaconda/envs/azureml_py38/lib/python3.8/_strptime.py:568\u001b[0m, in \u001b[0;36m_strptime_datetime\u001b[0;34m(cls, data_string, format)\u001b[0m\n\u001b[1;32m    565\u001b[0m \u001b[38;5;28;01mdef\u001b[39;00m \u001b[38;5;21m_strptime_datetime\u001b[39m(\u001b[38;5;28mcls\u001b[39m, data_string, \u001b[38;5;28mformat\u001b[39m\u001b[38;5;241m=\u001b[39m\u001b[38;5;124m\"\u001b[39m\u001b[38;5;132;01m%a\u001b[39;00m\u001b[38;5;124m \u001b[39m\u001b[38;5;124m%\u001b[39m\u001b[38;5;124mb \u001b[39m\u001b[38;5;132;01m%d\u001b[39;00m\u001b[38;5;124m \u001b[39m\u001b[38;5;124m%\u001b[39m\u001b[38;5;124mH:\u001b[39m\u001b[38;5;124m%\u001b[39m\u001b[38;5;124mM:\u001b[39m\u001b[38;5;124m%\u001b[39m\u001b[38;5;124mS \u001b[39m\u001b[38;5;124m%\u001b[39m\u001b[38;5;124mY\u001b[39m\u001b[38;5;124m\"\u001b[39m):\n\u001b[1;32m    566\u001b[0m \u001b[38;5;250m    \u001b[39m\u001b[38;5;124;03m\"\"\"Return a class cls instance based on the input string and the\u001b[39;00m\n\u001b[1;32m    567\u001b[0m \u001b[38;5;124;03m    format string.\"\"\"\u001b[39;00m\n\u001b[0;32m--> 568\u001b[0m     tt, fraction, gmtoff_fraction \u001b[38;5;241m=\u001b[39m \u001b[43m_strptime\u001b[49m\u001b[43m(\u001b[49m\u001b[43mdata_string\u001b[49m\u001b[43m,\u001b[49m\u001b[43m \u001b[49m\u001b[38;5;28;43mformat\u001b[39;49m\u001b[43m)\u001b[49m\n\u001b[1;32m    569\u001b[0m     tzname, gmtoff \u001b[38;5;241m=\u001b[39m tt[\u001b[38;5;241m-\u001b[39m\u001b[38;5;241m2\u001b[39m:]\n\u001b[1;32m    570\u001b[0m     args \u001b[38;5;241m=\u001b[39m tt[:\u001b[38;5;241m6\u001b[39m] \u001b[38;5;241m+\u001b[39m (fraction,)\n",
            "File \u001b[0;32m/anaconda/envs/azureml_py38/lib/python3.8/_strptime.py:349\u001b[0m, in \u001b[0;36m_strptime\u001b[0;34m(data_string, format)\u001b[0m\n\u001b[1;32m    347\u001b[0m found \u001b[38;5;241m=\u001b[39m format_regex\u001b[38;5;241m.\u001b[39mmatch(data_string)\n\u001b[1;32m    348\u001b[0m \u001b[38;5;28;01mif\u001b[39;00m \u001b[38;5;129;01mnot\u001b[39;00m found:\n\u001b[0;32m--> 349\u001b[0m     \u001b[38;5;28;01mraise\u001b[39;00m \u001b[38;5;167;01mValueError\u001b[39;00m(\u001b[38;5;124m\"\u001b[39m\u001b[38;5;124mtime data \u001b[39m\u001b[38;5;132;01m%r\u001b[39;00m\u001b[38;5;124m does not match format \u001b[39m\u001b[38;5;132;01m%r\u001b[39;00m\u001b[38;5;124m\"\u001b[39m \u001b[38;5;241m%\u001b[39m\n\u001b[1;32m    350\u001b[0m                      (data_string, \u001b[38;5;28mformat\u001b[39m))\n\u001b[1;32m    351\u001b[0m \u001b[38;5;28;01mif\u001b[39;00m \u001b[38;5;28mlen\u001b[39m(data_string) \u001b[38;5;241m!=\u001b[39m found\u001b[38;5;241m.\u001b[39mend():\n\u001b[1;32m    352\u001b[0m     \u001b[38;5;28;01mraise\u001b[39;00m \u001b[38;5;167;01mValueError\u001b[39;00m(\u001b[38;5;124m\"\u001b[39m\u001b[38;5;124munconverted data remains: \u001b[39m\u001b[38;5;132;01m%s\u001b[39;00m\u001b[38;5;124m\"\u001b[39m \u001b[38;5;241m%\u001b[39m\n\u001b[1;32m    353\u001b[0m                       data_string[found\u001b[38;5;241m.\u001b[39mend():])\n",
            "\u001b[0;31mValueError\u001b[0m: time data 'NaT' does not match format '%Y-%m-%d'"
          ]
        }
      ],
      "execution_count": 4,
      "metadata": {
        "gather": {
          "logged": 1690442601499
        }
      }
    },
    {
      "cell_type": "code",
      "source": [
        "data_json['3201180']"
      ],
      "outputs": [],
      "execution_count": null,
      "metadata": {
        "jupyter": {
          "source_hidden": false,
          "outputs_hidden": false
        },
        "nteract": {
          "transient": {
            "deleting": false
          }
        },
        "gather": {
          "logged": 1690442601583
        }
      }
    },
    {
      "cell_type": "code",
      "source": [],
      "outputs": [],
      "execution_count": null,
      "metadata": {
        "jupyter": {
          "source_hidden": false,
          "outputs_hidden": false
        },
        "nteract": {
          "transient": {
            "deleting": false
          }
        }
      }
    },
    {
      "cell_type": "code",
      "source": [
        "import itertools\r\n",
        "\r\n",
        "sample = next(iter(data.items()))\r\n",
        "\r\n",
        "# Replace 'N' with the desired item number you want to access (in this case, 10)\r\n",
        "item_number = 10\r\n",
        "\r\n",
        "# Using itertools.islice to get the Nth item (key-value pair) from the dictionary\r\n",
        "sample = next(itertools.islice(data.items(), 9999))\r\n",
        "\r\n",
        "\r\n",
        "print(sample[1]['dates'][:20])\r\n",
        "print(sample[1]['age'][:20])\r\n",
        "print(sample[1]['codes'][:20])\r\n",
        "print(sample[1]['position'][:20])\r\n",
        "print(sample[1]['segment'][:20])\r\n",
        "print(sample[1]['classification_labels'])\r\n",
        "print(sample[1]['original_code_sequence'][:20])\r\n",
        "print(sample[1]['sample_index'])\r\n",
        "print(sample[1]['input_sequence'][:20])\r\n",
        "print(sample[1]['attention_mask'][:20])\r\n",
        "\r\n"
      ],
      "outputs": [],
      "execution_count": null,
      "metadata": {
        "jupyter": {
          "source_hidden": false,
          "outputs_hidden": false
        },
        "nteract": {
          "transient": {
            "deleting": false
          }
        },
        "gather": {
          "logged": 1690442601593
        }
      }
    },
    {
      "cell_type": "code",
      "source": [
        "next(itertools.islice(data.items(), 90999))"
      ],
      "outputs": [],
      "execution_count": null,
      "metadata": {
        "jupyter": {
          "source_hidden": false,
          "outputs_hidden": false
        },
        "nteract": {
          "transient": {
            "deleting": false
          }
        },
        "gather": {
          "logged": 1690442601603
        }
      }
    },
    {
      "cell_type": "code",
      "source": [],
      "outputs": [],
      "execution_count": null,
      "metadata": {
        "jupyter": {
          "source_hidden": false,
          "outputs_hidden": false
        },
        "nteract": {
          "transient": {
            "deleting": false
          }
        }
      }
    },
    {
      "cell_type": "code",
      "source": [],
      "outputs": [],
      "execution_count": null,
      "metadata": {
        "jupyter": {
          "source_hidden": false,
          "outputs_hidden": false
        },
        "nteract": {
          "transient": {
            "deleting": false
          }
        }
      }
    }
  ],
  "metadata": {
    "kernelspec": {
      "name": "python38-azureml",
      "language": "python",
      "display_name": "Python 3.8 - AzureML"
    },
    "language_info": {
      "name": "python",
      "version": "3.8.5",
      "mimetype": "text/x-python",
      "codemirror_mode": {
        "name": "ipython",
        "version": 3
      },
      "pygments_lexer": "ipython3",
      "nbconvert_exporter": "python",
      "file_extension": ".py"
    },
    "orig_nbformat": 4,
    "microsoft": {
      "ms_spell_check": {
        "ms_spell_check_language": "en"
      },
      "host": {
        "AzureML": {
          "notebookHasBeenCompleted": true
        }
      }
    },
    "kernel_info": {
      "name": "python38-azureml"
    },
    "nteract": {
      "version": "nteract-front-end@1.0.0"
    }
  },
  "nbformat": 4,
  "nbformat_minor": 2
}