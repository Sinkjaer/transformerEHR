{
  "cells": [
    {
      "cell_type": "code",
      "source": [
        "import sys\n",
        "\n",
        "sys.path.insert(0, \"../\")\n",
        "\n",
        "Azure = True\n",
        "\n",
        "import json\n",
        "from torch.utils.data import DataLoader\n",
        "\n",
        "from dataLoader.dataLoaderMLM import CoercionRiskDataset, process_data_CoercionRisk\n",
        "from dataLoader.build_vocab import load_vocab, build_vocab"
      ],
      "outputs": [],
      "execution_count": 1,
      "metadata": {
        "gather": {
          "logged": 1690535930311
        }
      }
    },
    {
      "cell_type": "code",
      "source": [
        "if Azure:\n",
        "    file_config = {\n",
        "        \"vocab\": \"../dataloader/vocab.txt\",  # vocabulary idx2token, token2idx\n",
        "        \"data_train\": \"../../EHR_data/data/pre_train_training_set.json\",  # formated data\n",
        "        \"data_val\": \"../../EHR_data/CoercionData_val.json\",  # formated data\n",
        "        \"model_path\": \"model/model1/\",  # where to save model\n",
        "        \"model_name\": \"test\",  # model name\n",
        "        \"file_name\": \"log\",  # log path\n",
        "        \"use_cuda\": True,\n",
        "        \"device$\": \"cuda:0\",\n",
        "    }\n",
        "else:\n",
        "    file_config = {\n",
        "        \"vocab\": \"/Users/mikkelsinkjaer/Library/Mobile Documents/com~apple~CloudDocs/transEHR/Code/transformerEHR/data/vocab.txt\",  # vocabulary idx2token, token2idx\n",
        "        \"data_train\": \"/Users/mikkelsinkjaer/Library/Mobile Documents/com~apple~CloudDocs/transEHR/Code/transformerEHR/data/syntheticData.json\",\n",
        "        \"data_val\": \"/Users/mikkelsinkjaer/Library/Mobile Documents/com~apple~CloudDocs/transEHR/Code/transformerEHR/data/syntheticData_val.json\",\n",
        "        \"model_path\": \"model/model1/\",  # where to save model\n",
        "        \"model_name\": \"test\",  # model name\n",
        "        \"file_name\": \"log.txt\",  # log path\n",
        "        \"use_cuda\": False,\n",
        "        \"device\": \"cpu\",\n",
        "    }"
      ],
      "outputs": [],
      "execution_count": 2,
      "metadata": {
        "gather": {
          "logged": 1690535930404
        }
      }
    },
    {
      "cell_type": "code",
      "source": [
        "with open(file_config[\"data_train\"]) as f:\n",
        "    data_json = json.load(f)\n",
        "print(next(iter(data_json.items())))\n",
        "vocab_list, word_to_idx = build_vocab(data_json, Azure=Azure)"
      ],
      "outputs": [
        {
          "output_type": "stream",
          "name": "stdout",
          "text": "('1513125', {'Sex': 'Mand', 'BirthDate': '2000-03-27', 'DeathDate': None, 'Events': [{'EncounterKey': 39462023, 'Time': '2018-03-07T00:53:00', 'Type': 'Behandlingskontakt'}, {'EncounterKey': 46510167, 'Time': '2018-09-12T08:30:00', 'Type': 'Aftale'}, {'EncounterKey': 53935369, 'Time': '2018-10-19T11:30:00', 'Type': 'Ambulant besøg'}, {'EncounterKey': 56159318, 'Time': '2018-12-07T12:00:00', 'Type': 'Aftale'}, {'EncounterKey': 55201214, 'Time': '2018-11-06T00:00:00', 'Type': 'Behandlingskontakt'}, {'EncounterKey': 53983470, 'Time': '2018-10-31T11:30:00', 'Type': 'Ambulant besøg'}, {'EncounterKey': 55008256, 'Time': '2018-11-03T00:00:00', 'Type': 'Behandlingskontakt'}, {'EncounterKey': 40522115, 'Time': '2018-06-27T08:15:00', 'Type': 'Aftale'}, {'EncounterKey': 55921027, 'Time': '2018-11-20T14:30:00', 'Type': 'Ambulant besøg'}, {'EncounterKey': 71252158, 'Time': '2019-07-10T16:50:00', 'Type': 'Aftale'}, {'EncounterKey': 34275256, 'Time': '2018-01-05T10:00:00', 'Type': 'Aftale'}, {'EncounterKey': 51737234, 'Time': '2018-10-16T15:00:00', 'Type': 'Aftale'}, {'EncounterKey': 55439972, 'Time': '2018-11-16T14:30:00', 'Type': 'Aftale'}, {'EncounterKey': 54892146, 'Time': '2018-11-16T11:00:00', 'Type': 'Aftale'}, {'EncounterKey': 59413760, 'Time': '2019-01-13T04:04:00', 'Type': 'Behandlingskontakt'}, {'EncounterKey': 35466928, 'Time': '2018-01-12T09:00:00', 'Type': 'Ambulant besøg'}, {'EncounterKey': 30801643, 'Time': '2017-12-15T12:30:00', 'Type': 'Ambulant besøg'}, {'EncounterKey': 87613686, 'Time': '2020-03-11T00:00:00', 'Type': 'Behandlingskontakt'}, {'EncounterKey': 37887479, 'Time': '2018-02-16T12:00:00', 'Type': 'Ambulant besøg'}, {'EncounterKey': 53787967, 'Time': '2018-10-16T00:00:00', 'Type': 'Behandlingskontakt'}, {'EncounterKey': 55148046, 'Time': '2018-11-09T09:15:00', 'Type': 'Ambulant besøg'}, {'EncounterKey': 55043337, 'Time': '2018-11-05T00:00:00', 'Type': 'Behandlingskontakt'}, {'EncounterKey': 81138001, 'Time': '2019-12-09T00:00:00', 'Type': 'Behandlingskontakt'}, {'EncounterKey': 57130370, 'Time': '2018-12-06T13:00:00', 'Type': 'Ambulant besøg'}, {'EncounterKey': 35266261, 'Time': '2018-01-09T10:30:00', 'Type': 'Aftale'}, {'EncounterKey': 66940210, 'Time': '2019-05-07T20:55:00', 'Type': 'Aftale'}, {'EncounterKey': 35845367, 'Time': '2018-03-21T08:15:00', 'Type': 'Ambulant besøg'}, {'EncounterKey': 74234029, 'Time': '2019-08-31T00:00:00', 'Type': 'Behandlingskontakt'}, {'EncounterKey': 71223108, 'Time': '2019-07-10T00:00:00', 'Type': 'Behandlingskontakt'}, {'EncounterKey': 66875854, 'Time': '2019-05-08T00:00:00', 'Type': 'Behandlingskontakt'}, {'EncounterKey': 66668203, 'Time': '2019-05-07T00:00:00', 'Type': 'Behandlingskontakt'}, {'EncounterKey': 56162518, 'Time': '2018-12-04T14:15:00', 'Type': 'Ambulant besøg'}, {'EncounterKey': 31534466, 'Time': '2018-02-07T08:30:00', 'Type': 'Aftale'}, {'EncounterKey': 86942598, 'Time': '2020-03-02T00:00:00', 'Type': 'Behandlingskontakt'}, {'EncounterKey': 39462023, 'Time': '2018-03-07T00:53:00', 'Type': '0 Indlagt'}, {'EncounterKey': 55201214, 'Time': '2018-11-06T00:00:00', 'Type': '3 Akut ambulant'}, {'EncounterKey': 55008256, 'Time': '2018-11-03T00:00:00', 'Type': '3 Akut ambulant'}, {'EncounterKey': 71252158, 'Time': '2019-07-10T16:50:00', 'Type': '2 Ambulant'}, {'EncounterKey': 59413760, 'Time': '2019-01-13T04:04:00', 'Type': '0 Indlagt'}, {'EncounterKey': 87613686, 'Time': '2020-03-11T00:00:00', 'Type': '3 Akut ambulant'}, {'EncounterKey': 53787967, 'Time': '2018-10-16T00:00:00', 'Type': '3 Akut ambulant'}, {'EncounterKey': 55043337, 'Time': '2018-11-05T00:00:00', 'Type': '3 Akut ambulant'}, {'EncounterKey': 81138001, 'Time': '2019-12-09T00:00:00', 'Type': '3 Akut ambulant'}, {'EncounterKey': 57130370, 'Time': '2018-12-06T13:00:00', 'Type': '2 Ambulant'}, {'EncounterKey': 66940210, 'Time': '2019-05-07T20:55:00', 'Type': '2 Ambulant'}, {'EncounterKey': 74234029, 'Time': '2019-08-31T00:00:00', 'Type': '3 Akut ambulant'}, {'EncounterKey': 71223108, 'Time': '2019-07-10T00:00:00', 'Type': '3 Akut ambulant'}, {'EncounterKey': 66875854, 'Time': '2019-05-08T00:00:00', 'Type': '3 Akut ambulant'}, {'EncounterKey': 66668203, 'Time': '2019-05-07T00:00:00', 'Type': '3 Akut ambulant'}, {'EncounterKey': 86942598, 'Time': '2020-03-02T00:00:00', 'Type': '3 Akut ambulant'}, {'EncounterKey': 46510167, 'Time': '2018-09-12T00:00:00', 'Type': 'cancelled_no_show'}, {'EncounterKey': 56159318, 'Time': '2018-12-07T00:00:00', 'Type': 'cancelled_patient'}, {'EncounterKey': 40522115, 'Time': '2018-06-20T00:00:00', 'Type': 'cancelled_patient'}, {'EncounterKey': 71252158, 'Time': '2019-07-10T00:00:00', 'Type': 'cancelled_other'}, {'EncounterKey': 34275256, 'Time': '2018-01-05T00:00:00', 'Type': 'cancelled_patient'}, {'EncounterKey': 51737234, 'Time': '2018-10-17T00:00:00', 'Type': 'cancelled_no_show'}, {'EncounterKey': 55439972, 'Time': '2018-11-16T00:00:00', 'Type': 'cancelled_government'}, {'EncounterKey': 54892146, 'Time': '2018-11-16T00:00:00', 'Type': 'cancelled_government'}, {'EncounterKey': 35266261, 'Time': '2018-01-09T00:00:00', 'Type': 'cancelled_patient'}, {'EncounterKey': 66940210, 'Time': '2019-05-07T00:00:00', 'Type': 'cancelled_other'}, {'EncounterKey': 31534466, 'Time': '2018-02-02T00:00:00', 'Type': 'cancelled_patient'}, {'EncounterKey': 59413760, 'Time': '2019-01-13T00:00:00', 'Type': 'psych_admission'}, {'EncounterKey': 39462023, 'Time': '2018-03-07T00:00:00', 'Type': 'somatic_admission'}, {'EncounterKey': 59413760, 'Time': '2019-01-13T15:36:00', 'Type': 'psych_discharge'}, {'EncounterKey': 39462023, 'Time': '2018-03-07T11:45:00', 'Type': 'somatic_discharge'}, {'EncounterKey': 30801643, 'Time': '2017-11-24', 'Type': 'DF90_98'}, {'EncounterKey': 59413760, 'Time': '2019-01-13', 'Type': 'DF80_89'}, {'EncounterKey': 59413760, 'Time': '2019-01-13', 'Type': 'DF80_89'}, {'EncounterKey': 66724907, 'Time': '2019-05-07', 'Type': 'DF90_98'}, {'EncounterKey': 70407047, 'Time': '2019-06-27', 'Type': 'DF90_98'}, {'EncounterKey': 30801643, 'Time': '2017-11-24', 'Type': 'DF9'}, {'EncounterKey': 59413760, 'Time': '2019-01-13', 'Type': 'DF8'}, {'EncounterKey': 59413760, 'Time': '2019-01-13', 'Type': 'DF8'}, {'EncounterKey': 66724907, 'Time': '2019-05-07', 'Type': 'DF9'}, {'EncounterKey': 70407047, 'Time': '2019-06-27', 'Type': 'DF9'}], 'Coercion': []})\n"
        },
        {
          "output_type": "stream",
          "name": "stderr",
          "text": "Vocab: 100%|██████████| 72092/72092 [00:01<00:00, 44381.95it/s]\n"
        }
      ],
      "execution_count": 3,
      "metadata": {
        "gather": {
          "logged": 1690535960322
        }
      }
    },
    {
      "cell_type": "code",
      "source": [
        "# Data loader\r\n",
        "data = process_data_CoercionRisk(\r\n",
        "    data_json, vocab_list, word_to_idx, mask_prob=0.20, Azure=Azure\r\n",
        ")\r\n",
        "sample_data = CoercionRiskDataset(data)\r\n",
        "sample = next(iter(sample_data))"
      ],
      "outputs": [
        {
          "output_type": "stream",
          "name": "stderr",
          "text": "  1%|▏         | 1001/72092 [00:09<11:47, 100.53it/s]\n"
        }
      ],
      "execution_count": 4,
      "metadata": {
        "gather": {
          "logged": 1690535970521
        }
      }
    },
    {
      "cell_type": "code",
      "source": [
        "import itertools\r\n",
        "\r\n",
        "# sample = next(iter(data.items()))\r\n",
        "\r\n",
        "# Replace 'N' with the desired item number you want to access (in this case, 10)\r\n",
        "item_number = 10100\r\n",
        "\r\n",
        "# Using itertools.islice to get the Nth item (key-value pair) from the dictionary\r\n",
        "# sample = next(itertools.islice(data.items(), item_number))\r\n",
        "\r\n",
        "count  = 0\r\n",
        "for sample in data.items():\r\n",
        "    index = sample[1]['sample_index']\r\n",
        "    if sample[1]['classification_labels'] == 1:\r\n",
        "        print('date',sample[1]['dates'][index-5:index+5])\r\n",
        "        print('age',sample[1]['age'][index-5:index+5])\r\n",
        "        print('codes',sample[1]['codes'][index-5:index+5])\r\n",
        "        print('position',sample[1]['position'][index-5:index+5])\r\n",
        "        print('segment',sample[1]['segment'][index-5:index+5])\r\n",
        "        print('classification_labels',sample[1]['classification_labels'])\r\n",
        "        print('original_code_sequence',sample[1]['original_code_sequence'][index-5:index+5])\r\n",
        "        print('sample_index',sample[1]['sample_index'])\r\n",
        "        print('input_sequence',sample[1]['input_sequence'][index-5:index+5])\r\n",
        "        print('attention_mask',sample[1]['attention_mask'][index-5:index+5])\r\n",
        "        break\r\n",
        "    count +=1\r\n",
        "\r\n",
        "\r\n"
      ],
      "outputs": [
        {
          "output_type": "stream",
          "name": "stdout",
          "text": "date [43591, 43591, 43591, 43591, 0, 0, 0, 0, 0, 0]\nage [69.33333333333333, 69.33333333333333, 69.33333333333333, 69.33333333333333, 69.33333333333333, 69.58333333333333, 69.58333333333333, 69.58333333333333, 70.58333333333333, 69.25]\ncodes ['<SEP>', 'DF20', 'DF20', 'DF2', '<PAD>', '<PAD>', '<PAD>', '<PAD>', '<PAD>', '<PAD>']\nposition [19, 20, 20, 20, 20, 20, 20, 20, 20, 20]\nsegment [1, 0, 0, 0, 0, 0, 0, 0, 0, 0]\nclassification_labels 1\noriginal_code_sequence ['<SEP>', 'DF20', 'DF20', 'DF2', 'DF2', 'psych_admission', 'coercion_Beroligende medicin', 'coercion_Beroligende medicin', 'Behandlingskontakt', '0 Indlagt']\nsample_index 63\ninput_sequence [2, 64, 64, 53, 3, 3, 3, 3, 3, 3]\nattention_mask [1, 1, 1, 1, 1, 1, 1, 1, 1, 1]\n"
        }
      ],
      "execution_count": 5,
      "metadata": {
        "jupyter": {
          "source_hidden": false,
          "outputs_hidden": false
        },
        "nteract": {
          "transient": {
            "deleting": false
          }
        },
        "gather": {
          "logged": 1690535970618
        }
      }
    },
    {
      "cell_type": "code",
      "source": [],
      "outputs": [],
      "execution_count": null,
      "metadata": {
        "jupyter": {
          "source_hidden": false,
          "outputs_hidden": false
        },
        "nteract": {
          "transient": {
            "deleting": false
          }
        }
      }
    },
    {
      "cell_type": "code",
      "source": [],
      "outputs": [],
      "execution_count": null,
      "metadata": {
        "jupyter": {
          "source_hidden": false,
          "outputs_hidden": false
        },
        "nteract": {
          "transient": {
            "deleting": false
          }
        }
      }
    }
  ],
  "metadata": {
    "kernelspec": {
      "name": "python38-azureml",
      "language": "python",
      "display_name": "Python 3.8 - AzureML"
    },
    "language_info": {
      "name": "python",
      "version": "3.8.5",
      "mimetype": "text/x-python",
      "codemirror_mode": {
        "name": "ipython",
        "version": 3
      },
      "pygments_lexer": "ipython3",
      "nbconvert_exporter": "python",
      "file_extension": ".py"
    },
    "orig_nbformat": 4,
    "microsoft": {
      "ms_spell_check": {
        "ms_spell_check_language": "en"
      },
      "host": {
        "AzureML": {
          "notebookHasBeenCompleted": true
        }
      }
    },
    "kernel_info": {
      "name": "python38-azureml"
    },
    "nteract": {
      "version": "nteract-front-end@1.0.0"
    }
  },
  "nbformat": 4,
  "nbformat_minor": 2
}