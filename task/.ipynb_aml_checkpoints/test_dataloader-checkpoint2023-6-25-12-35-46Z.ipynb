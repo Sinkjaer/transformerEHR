{
 "cells": [
  {
   "cell_type": "code",
   "execution_count": 1,
   "metadata": {},
   "outputs": [],
   "source": [
    "import sys\n",
    "\n",
    "sys.path.insert(0, \"../\")\n",
    "\n",
    "Azure = False\n",
    "\n",
    "import json\n",
    "from torch.utils.data import DataLoader\n",
    "from dataLoader.dataLoaderMLM import CoercionRiskDataset, process_data_CoercionRisk\n",
    "from dataLoader.build_vocab import load_vocab"
   ]
  },
  {
   "cell_type": "code",
   "execution_count": 2,
   "metadata": {},
   "outputs": [],
   "source": [
    "if Azure:\n",
    "    file_config = {\n",
    "        \"vocab\": \"../dataloader/vocab.txt\",  # vocabulary idx2token, token2idx\n",
    "        \"data_train\": \"../../EHR_data/CoercionData_train.json\",  # formated data\n",
    "        \"data_val\": \"../../EHR_data/CoercionData_val.json\",  # formated data\n",
    "        \"model_path\": \"model/model1/\",  # where to save model\n",
    "        \"model_name\": \"test\",  # model name\n",
    "        \"file_name\": \"log\",  # log path\n",
    "        \"use_cuda\": True,\n",
    "        \"device$\": \"cuda:0\",\n",
    "    }\n",
    "else:\n",
    "    file_config = {\n",
    "        \"vocab\": \"/Users/mikkelsinkjaer/Library/Mobile Documents/com~apple~CloudDocs/transEHR/Code/transformerEHR/data/vocab.txt\",  # vocabulary idx2token, token2idx\n",
    "        \"data_train\": \"/Users/mikkelsinkjaer/Library/Mobile Documents/com~apple~CloudDocs/transEHR/Code/transformerEHR/data/syntheticData.json\",\n",
    "        \"data_val\": \"/Users/mikkelsinkjaer/Library/Mobile Documents/com~apple~CloudDocs/transEHR/Code/transformerEHR/data/syntheticData_val.json\",\n",
    "        \"model_path\": \"model/model1/\",  # where to save model\n",
    "        \"model_name\": \"test\",  # model name\n",
    "        \"file_name\": \"log.txt\",  # log path\n",
    "        \"use_cuda\": False,\n",
    "        \"device\": \"cpu\",\n",
    "    }"
   ]
  },
  {
   "cell_type": "code",
   "execution_count": 3,
   "metadata": {},
   "outputs": [
    {
     "name": "stderr",
     "output_type": "stream",
     "text": [
      "  0%|          | 0/10000 [00:00<?, ?it/s]\n"
     ]
    },
    {
     "ename": "KeyError",
     "evalue": "'Coercion'",
     "output_type": "error",
     "traceback": [
      "\u001b[0;31m---------------------------------------------------------------------------\u001b[0m",
      "\u001b[0;31mKeyError\u001b[0m                                  Traceback (most recent call last)",
      "Cell \u001b[0;32mIn[3], line 8\u001b[0m\n\u001b[1;32m      4\u001b[0m     data_json \u001b[39m=\u001b[39m json\u001b[39m.\u001b[39mload(f)\n\u001b[1;32m      6\u001b[0m \u001b[39m# %%\u001b[39;00m\n\u001b[1;32m      7\u001b[0m \u001b[39m# Data loader\u001b[39;00m\n\u001b[0;32m----> 8\u001b[0m data \u001b[39m=\u001b[39m process_data_CoercionRisk(data_json, vocab_list, word_to_idx, mask_prob\u001b[39m=\u001b[39;49m\u001b[39m0.20\u001b[39;49m, Azure\u001b[39m=\u001b[39;49mAzure)\n\u001b[1;32m      9\u001b[0m sample_data \u001b[39m=\u001b[39m CoercionRiskDataset(data)\n\u001b[1;32m     10\u001b[0m sample \u001b[39m=\u001b[39m \u001b[39mnext\u001b[39m(\u001b[39miter\u001b[39m(sample_data))\n",
      "File \u001b[0;32m~/Library/Mobile Documents/com~apple~CloudDocs/transEHR/Code/transformerEHR/task/../dataLoader/dataLoaderMLM.py:347\u001b[0m, in \u001b[0;36mprocess_data_CoercionRisk\u001b[0;34m(data, vocab_list, word_to_idx, START_TOKEN, SEP_TOKEN, PAD_TOKEN, EMPTY_TOKEN_NS, ref_date, max_length, mask_prob, Azure)\u001b[0m\n\u001b[1;32m    342\u001b[0m     total_length \u001b[39m+\u001b[39m\u001b[39m=\u001b[39m \u001b[39mlen\u001b[39m(code_list) \u001b[39m+\u001b[39m \u001b[39m2\u001b[39m\n\u001b[1;32m    344\u001b[0m \u001b[39m# Sample encounter to predict coercion risk\u001b[39;00m\n\u001b[1;32m    345\u001b[0m EncounterKey_coercion \u001b[39m=\u001b[39m [\n\u001b[1;32m    346\u001b[0m     item[\u001b[39m\"\u001b[39m\u001b[39mEncouterKey\u001b[39m\u001b[39m\"\u001b[39m]\n\u001b[0;32m--> 347\u001b[0m     \u001b[39mfor\u001b[39;00m item \u001b[39min\u001b[39;00m patient_data[\u001b[39m\"\u001b[39;49m\u001b[39mCoercion\u001b[39;49m\u001b[39m\"\u001b[39;49m]\n\u001b[1;32m    348\u001b[0m     \u001b[39mif\u001b[39;00m (item[\u001b[39m\"\u001b[39m\u001b[39mCoercion\u001b[39m\u001b[39m\"\u001b[39m][\u001b[39m\"\u001b[39m\u001b[39mType_2\u001b[39m\u001b[39m\"\u001b[39m] \u001b[39m==\u001b[39m \u001b[39m1\u001b[39m) \u001b[39mor\u001b[39;00m (item[\u001b[39m\"\u001b[39m\u001b[39mCoercion\u001b[39m\u001b[39m\"\u001b[39m][\u001b[39m\"\u001b[39m\u001b[39mType_3\u001b[39m\u001b[39m\"\u001b[39m] \u001b[39m==\u001b[39m \u001b[39m1\u001b[39m)\n\u001b[1;32m    349\u001b[0m ]  \u001b[39m# Check if coercion is present\u001b[39;00m\n\u001b[1;32m    350\u001b[0m \u001b[39mif\u001b[39;00m \u001b[39many\u001b[39m(EncounterKey_coercion):\n\u001b[1;32m    351\u001b[0m     \u001b[39m# sample a random encounter with coercion and get the first index where the coercion is present in\u001b[39;00m\n\u001b[1;32m    352\u001b[0m     \u001b[39mif\u001b[39;00m random\u001b[39m.\u001b[39mrandom() \u001b[39m<\u001b[39m \u001b[39m0.5\u001b[39m:\n",
      "\u001b[0;31mKeyError\u001b[0m: 'Coercion'"
     ]
    }
   ],
   "source": [
    "vocab_list, word_to_idx = load_vocab(file_config[\"vocab\"])\n",
    "\n",
    "with open(file_config[\"data_train\"]) as f:\n",
    "    data_json = json.load(f)\n",
    "\n",
    "# %%\n",
    "# Data loader\n",
    "data = process_data_CoercionRisk(\n",
    "    data_json, vocab_list, word_to_idx, mask_prob=0.20, Azure=Azure\n",
    ")\n",
    "sample_data = CoercionRiskDataset(data)\n",
    "sample = next(iter(sample_data))"
   ]
  },
  {
   "cell_type": "code",
   "execution_count": null,
   "metadata": {},
   "outputs": [],
   "source": []
  }
 ],
 "metadata": {
  "kernelspec": {
   "display_name": "transEHR",
   "language": "python",
   "name": "python3"
  },
  "language_info": {
   "codemirror_mode": {
    "name": "ipython",
    "version": 3
   },
   "file_extension": ".py",
   "mimetype": "text/x-python",
   "name": "python",
   "nbconvert_exporter": "python",
   "pygments_lexer": "ipython3",
   "version": "3.10.12"
  },
  "orig_nbformat": 4
 },
 "nbformat": 4,
 "nbformat_minor": 2
}
