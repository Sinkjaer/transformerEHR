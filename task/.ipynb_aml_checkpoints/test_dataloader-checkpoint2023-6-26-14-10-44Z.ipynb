{
  "cells": [
    {
      "cell_type": "code",
      "source": [
        "import sys\n",
        "\n",
        "sys.path.insert(0, \"../\")\n",
        "\n",
        "Azure = True\n",
        "\n",
        "import json\n",
        "from torch.utils.data import DataLoader\n",
        "\n",
        "from dataLoader.dataLoaderMLM import CoercionRiskDataset, process_data_CoercionRisk\n",
        "from dataLoader.build_vocab import load_vocab, build_vocab"
      ],
      "outputs": [],
      "execution_count": 1,
      "metadata": {
        "gather": {
          "logged": 1690376806015
        }
      }
    },
    {
      "cell_type": "code",
      "source": [
        "if Azure:\n",
        "    file_config = {\n",
        "        \"vocab\": \"../dataloader/vocab.txt\",  # vocabulary idx2token, token2idx\n",
        "        \"data_train\": \"../../EHR_data/CoercionData.json\",  # formated data\n",
        "        \"data_val\": \"../../EHR_data/CoercionData_val.json\",  # formated data\n",
        "        \"model_path\": \"model/model1/\",  # where to save model\n",
        "        \"model_name\": \"test\",  # model name\n",
        "        \"file_name\": \"log\",  # log path\n",
        "        \"use_cuda\": True,\n",
        "        \"device$\": \"cuda:0\",\n",
        "    }\n",
        "else:\n",
        "    file_config = {\n",
        "        \"vocab\": \"/Users/mikkelsinkjaer/Library/Mobile Documents/com~apple~CloudDocs/transEHR/Code/transformerEHR/data/vocab.txt\",  # vocabulary idx2token, token2idx\n",
        "        \"data_train\": \"/Users/mikkelsinkjaer/Library/Mobile Documents/com~apple~CloudDocs/transEHR/Code/transformerEHR/data/syntheticData.json\",\n",
        "        \"data_val\": \"/Users/mikkelsinkjaer/Library/Mobile Documents/com~apple~CloudDocs/transEHR/Code/transformerEHR/data/syntheticData_val.json\",\n",
        "        \"model_path\": \"model/model1/\",  # where to save model\n",
        "        \"model_name\": \"test\",  # model name\n",
        "        \"file_name\": \"log.txt\",  # log path\n",
        "        \"use_cuda\": False,\n",
        "        \"device\": \"cpu\",\n",
        "    }"
      ],
      "outputs": [],
      "execution_count": 2,
      "metadata": {
        "gather": {
          "logged": 1690376806119
        }
      }
    },
    {
      "cell_type": "code",
      "source": [
        "with open(file_config[\"data_train\"]) as f:\n",
        "    data_json = json.load(f)\n",
        "print(next(iter(data_json.items())))\n",
        "vocab_list, word_to_idx = build_vocab(data_json, Azure=Azure)"
      ],
      "outputs": [
        {
          "output_type": "stream",
          "name": "stdout",
          "text": "('133064', {'Sex': 'Kvinde', 'BirthDate': '1925-08-31', 'DeathDate': '2017-05-12', 'Events': [{'EncounterKey': 6461494, 'Time': '2017-03-20T15:55:00', 'Type': 'Aftale'}, {'EncounterKey': 6461494, 'Time': '2017-03-20T00:00:00', 'Type': 'cancelled_other'}, {'EncounterKey': 3272587, 'Time': '2017-04-20T00:00:00', 'Type': 'somatic_admission'}, {'EncounterKey': 3378964, 'Time': '2017-03-18T00:00:00', 'Type': 'somatic_admission'}, {'EncounterKey': 3272587, 'Time': '2017-04-26T10:11:00', 'Type': 'somatic_discharge'}, {'EncounterKey': 3378964, 'Time': '2017-03-24T16:05:00', 'Type': 'somatic_discharge'}, {'EncounterKey': 3378964, 'Time': '2017-03-18', 'Type': 'DF0_9'}, {'EncounterKey': 3378964, 'Time': '2017-03-18', 'Type': 'DF0'}], 'Coercion': []})\n"
        },
        {
          "output_type": "stream",
          "name": "stderr",
          "text": "Vocab: 100%|██████████| 250000/250000 [00:03<00:00, 82634.47it/s]\n"
        }
      ],
      "execution_count": 3,
      "metadata": {
        "gather": {
          "logged": 1690376861523
        }
      }
    },
    {
      "cell_type": "code",
      "source": [
        "# Data loader\r\n",
        "data = process_data_CoercionRisk(\r\n",
        "    data_json, vocab_list, word_to_idx, mask_prob=0.20, Azure=Azure\r\n",
        ")\r\n",
        "sample_data = CoercionRiskDataset(data)\r\n",
        "sample = next(iter(sample_data))"
      ],
      "outputs": [
        {
          "output_type": "stream",
          "name": "stderr",
          "text": "\r  0%|          | 0/250000 [00:00<?, ?it/s]\r  0%|          | 26/250000 [00:00<03:22, 1233.60it/s]\n"
        },
        {
          "output_type": "stream",
          "name": "stdout",
          "text": "['<CLS>']\n3201180\n"
        },
        {
          "output_type": "error",
          "ename": "ValueError",
          "evalue": "Sample larger than population or is negative",
          "traceback": [
            "\u001b[0;31m---------------------------------------------------------------------------\u001b[0m",
            "\u001b[0;31mValueError\u001b[0m                                Traceback (most recent call last)",
            "Cell \u001b[0;32mIn[4], line 2\u001b[0m\n\u001b[1;32m      1\u001b[0m \u001b[38;5;66;03m# Data loader\u001b[39;00m\n\u001b[0;32m----> 2\u001b[0m data \u001b[38;5;241m=\u001b[39m \u001b[43mprocess_data_CoercionRisk\u001b[49m\u001b[43m(\u001b[49m\n\u001b[1;32m      3\u001b[0m \u001b[43m    \u001b[49m\u001b[43mdata_json\u001b[49m\u001b[43m,\u001b[49m\u001b[43m \u001b[49m\u001b[43mvocab_list\u001b[49m\u001b[43m,\u001b[49m\u001b[43m \u001b[49m\u001b[43mword_to_idx\u001b[49m\u001b[43m,\u001b[49m\u001b[43m \u001b[49m\u001b[43mmask_prob\u001b[49m\u001b[38;5;241;43m=\u001b[39;49m\u001b[38;5;241;43m0.20\u001b[39;49m\u001b[43m,\u001b[49m\u001b[43m \u001b[49m\u001b[43mAzure\u001b[49m\u001b[38;5;241;43m=\u001b[39;49m\u001b[43mAzure\u001b[49m\n\u001b[1;32m      4\u001b[0m \u001b[43m)\u001b[49m\n\u001b[1;32m      5\u001b[0m sample_data \u001b[38;5;241m=\u001b[39m CoercionRiskDataset(data)\n\u001b[1;32m      6\u001b[0m sample \u001b[38;5;241m=\u001b[39m \u001b[38;5;28mnext\u001b[39m(\u001b[38;5;28miter\u001b[39m(sample_data))\n",
            "File \u001b[0;32m/mnt/batch/tasks/shared/LS_root/mounts/clusters/mikkel4c14/code/Users/mikkel.sinkjaer/transformerEHR/dataLoader/dataLoaderMLM.py:410\u001b[0m, in \u001b[0;36mprocess_data_CoercionRisk\u001b[0;34m(data, vocab_list, word_to_idx, START_TOKEN, SEP_TOKEN, PAD_TOKEN, EMPTY_TOKEN_NS, ref_date, max_length, mask_prob, Azure)\u001b[0m\n\u001b[1;32m    407\u001b[0m     \u001b[38;5;28mprint\u001b[39m(code_sequence)\n\u001b[1;32m    408\u001b[0m     \u001b[38;5;28mprint\u001b[39m(patient)\n\u001b[1;32m    409\u001b[0m sample_index \u001b[38;5;241m=\u001b[39m (\n\u001b[0;32m--> 410\u001b[0m     \u001b[43mrandom\u001b[49m\u001b[38;5;241;43m.\u001b[39;49m\u001b[43msample\u001b[49m\u001b[43m(\u001b[49m\u001b[43mindices\u001b[49m\u001b[43m,\u001b[49m\u001b[43m \u001b[49m\u001b[38;5;241;43m1\u001b[39;49m\u001b[43m)\u001b[49m[\u001b[38;5;241m0\u001b[39m] \u001b[38;5;241m+\u001b[39m \u001b[38;5;241m1\u001b[39m\n\u001b[1;32m    411\u001b[0m )  \u001b[38;5;66;03m# Add 1 to get the index of next segment\u001b[39;00m\n\u001b[1;32m    413\u001b[0m \u001b[38;5;66;03m# Trim sequence\u001b[39;00m\n\u001b[1;32m    414\u001b[0m code_sequence \u001b[38;5;241m=\u001b[39m code_sequence[:sample_index]\n",
            "File \u001b[0;32m/anaconda/envs/azureml_py38/lib/python3.8/random.py:363\u001b[0m, in \u001b[0;36mRandom.sample\u001b[0;34m(self, population, k)\u001b[0m\n\u001b[1;32m    361\u001b[0m n \u001b[38;5;241m=\u001b[39m \u001b[38;5;28mlen\u001b[39m(population)\n\u001b[1;32m    362\u001b[0m \u001b[38;5;28;01mif\u001b[39;00m \u001b[38;5;129;01mnot\u001b[39;00m \u001b[38;5;241m0\u001b[39m \u001b[38;5;241m<\u001b[39m\u001b[38;5;241m=\u001b[39m k \u001b[38;5;241m<\u001b[39m\u001b[38;5;241m=\u001b[39m n:\n\u001b[0;32m--> 363\u001b[0m     \u001b[38;5;28;01mraise\u001b[39;00m \u001b[38;5;167;01mValueError\u001b[39;00m(\u001b[38;5;124m\"\u001b[39m\u001b[38;5;124mSample larger than population or is negative\u001b[39m\u001b[38;5;124m\"\u001b[39m)\n\u001b[1;32m    364\u001b[0m result \u001b[38;5;241m=\u001b[39m [\u001b[38;5;28;01mNone\u001b[39;00m] \u001b[38;5;241m*\u001b[39m k\n\u001b[1;32m    365\u001b[0m setsize \u001b[38;5;241m=\u001b[39m \u001b[38;5;241m21\u001b[39m        \u001b[38;5;66;03m# size of a small set minus size of an empty list\u001b[39;00m\n",
            "\u001b[0;31mValueError\u001b[0m: Sample larger than population or is negative"
          ]
        }
      ],
      "execution_count": 4,
      "metadata": {
        "gather": {
          "logged": 1690376861839
        }
      }
    },
    {
      "cell_type": "code",
      "source": [
        "data_json['3201180']"
      ],
      "outputs": [
        {
          "output_type": "execute_result",
          "execution_count": 6,
          "data": {
            "text/plain": "{'Sex': 'Mand',\n 'BirthDate': '1981-07-27',\n 'DeathDate': None,\n 'Events': [],\n 'Coercion': []}"
          },
          "metadata": {}
        }
      ],
      "execution_count": 6,
      "metadata": {
        "jupyter": {
          "source_hidden": false,
          "outputs_hidden": false
        },
        "nteract": {
          "transient": {
            "deleting": false
          }
        },
        "gather": {
          "logged": 1690376909498
        }
      }
    },
    {
      "cell_type": "code",
      "source": [],
      "outputs": [],
      "execution_count": null,
      "metadata": {
        "jupyter": {
          "source_hidden": false,
          "outputs_hidden": false
        },
        "nteract": {
          "transient": {
            "deleting": false
          }
        }
      }
    },
    {
      "cell_type": "code",
      "source": [
        "import itertools\r\n",
        "\r\n",
        "sample = next(iter(data.items()))\r\n",
        "\r\n",
        "# Replace 'N' with the desired item number you want to access (in this case, 10)\r\n",
        "item_number = 10\r\n",
        "\r\n",
        "# Using itertools.islice to get the Nth item (key-value pair) from the dictionary\r\n",
        "sample = next(itertools.islice(data.items(), 9999))\r\n",
        "\r\n",
        "\r\n",
        "print(sample[1]['dates'][:20])\r\n",
        "print(sample[1]['age'][:20])\r\n",
        "print(sample[1]['codes'][:20])\r\n",
        "print(sample[1]['position'][:20])\r\n",
        "print(sample[1]['segment'][:20])\r\n",
        "print(sample[1]['classification_labels'])\r\n",
        "print(sample[1]['original_code_sequence'][:20])\r\n",
        "print(sample[1]['sample_index'])\r\n",
        "print(sample[1]['input_sequence'][:20])\r\n",
        "print(sample[1]['attention_mask'][:20])\r\n",
        "\r\n"
      ],
      "outputs": [],
      "execution_count": null,
      "metadata": {
        "jupyter": {
          "source_hidden": false,
          "outputs_hidden": false
        },
        "nteract": {
          "transient": {
            "deleting": false
          }
        },
        "gather": {
          "logged": 1690376861912
        }
      }
    },
    {
      "cell_type": "code",
      "source": [
        "next(itertools.islice(data.items(), 90999))"
      ],
      "outputs": [],
      "execution_count": null,
      "metadata": {
        "jupyter": {
          "source_hidden": false,
          "outputs_hidden": false
        },
        "nteract": {
          "transient": {
            "deleting": false
          }
        },
        "gather": {
          "logged": 1690376861931
        }
      }
    },
    {
      "cell_type": "code",
      "source": [],
      "outputs": [],
      "execution_count": null,
      "metadata": {
        "jupyter": {
          "source_hidden": false,
          "outputs_hidden": false
        },
        "nteract": {
          "transient": {
            "deleting": false
          }
        }
      }
    },
    {
      "cell_type": "code",
      "source": [],
      "outputs": [],
      "execution_count": null,
      "metadata": {
        "jupyter": {
          "source_hidden": false,
          "outputs_hidden": false
        },
        "nteract": {
          "transient": {
            "deleting": false
          }
        }
      }
    }
  ],
  "metadata": {
    "kernelspec": {
      "name": "python38-azureml",
      "language": "python",
      "display_name": "Python 3.8 - AzureML"
    },
    "language_info": {
      "name": "python",
      "version": "3.8.5",
      "mimetype": "text/x-python",
      "codemirror_mode": {
        "name": "ipython",
        "version": 3
      },
      "pygments_lexer": "ipython3",
      "nbconvert_exporter": "python",
      "file_extension": ".py"
    },
    "orig_nbformat": 4,
    "microsoft": {
      "ms_spell_check": {
        "ms_spell_check_language": "en"
      },
      "host": {
        "AzureML": {
          "notebookHasBeenCompleted": true
        }
      }
    },
    "kernel_info": {
      "name": "python38-azureml"
    },
    "nteract": {
      "version": "nteract-front-end@1.0.0"
    }
  },
  "nbformat": 4,
  "nbformat_minor": 2
}