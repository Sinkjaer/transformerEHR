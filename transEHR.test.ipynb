{
 "cells": [
  {
   "cell_type": "code",
   "execution_count": null,
   "metadata": {},
   "outputs": [],
   "source": [
    "import os\n",
    "import json\n",
    "\n",
    "import torch\n",
    "from torch.nn import functional as F\n",
    "from torch import nn\n",
    "import math\n",
    "import pytorch_lightning as pl\n",
    "from pytorch_lightning.loggers import NeptuneLogger\n",
    "from pytorch_lightning.callbacks.early_stopping import EarlyStopping\n",
    "from torchmetrics.classification import BinaryAccuracy\n"
   ]
  },
  {
   "cell_type": "code",
   "execution_count": 3,
   "metadata": {},
   "outputs": [],
   "source": [
    "from torchtext.vocab import vocab\n",
    "from collections import Counter\n",
    "from torch.utils.data import DataLoader, random_split\n",
    "from torch.utils.data import Dataset\n"
   ]
  },
  {
   "cell_type": "code",
   "execution_count": 4,
   "metadata": {},
   "outputs": [],
   "source": [
    "# EHR dataset\n",
    "# Currently data is loaded in memory and procesed\n",
    "# should be edited to process data from the disk\n",
    "\n",
    "\n",
    "class EHRDataset_Diagnosis(Dataset):\n",
    "    def __init__(self, data, targets):\n",
    "        self.data = data\n",
    "        self.targets = targets\n",
    "\n",
    "    def __len__(self):\n",
    "        return len(self.data)\n",
    "\n",
    "    def __getitem__(self, idx):\n",
    "        sample = self.data[idx]\n",
    "        target = self.targets[idx]\n",
    "        return (sample, target)\n"
   ]
  },
  {
   "cell_type": "code",
   "execution_count": 5,
   "metadata": {},
   "outputs": [],
   "source": [
    "# EHR dataset including date of admission\n",
    "# not used right now\n",
    "class EHRDataset_DiagnosisAdm(Dataset):\n",
    "    def __init__(self, data_diagnosis, data_admdate, targets):\n",
    "        self.data_diagnosis = data_diagnosis\n",
    "        self.data_admdate = data_admdata\n",
    "        self.targets = targets\n",
    "\n",
    "    def __len__(self):\n",
    "        return len(self.data)\n",
    "\n",
    "    def __getitem__(self, idx):\n",
    "        sample_diagnosis = self.data_diagnosis[idx]\n",
    "        sample_admdata = self.data_admdate[idx]\n",
    "        target = self.targets[idx]\n",
    "        return (sample_diagnosis, sample_admdata, target)\n"
   ]
  },
  {
   "cell_type": "code",
   "execution_count": 6,
   "metadata": {},
   "outputs": [],
   "source": [
    "# Pytorch lightning classification transformer\n",
    "\n",
    "\n",
    "class PositionalEncoding(nn.Module):\n",
    "    def __init__(self, d_model, dropout=0.1, max_len=5000):\n",
    "        super(PositionalEncoding, self).__init__()\n",
    "        self.dropout = nn.Dropout(p=dropout)\n",
    "\n",
    "        pe = torch.zeros(max_len, d_model)\n",
    "        position = torch.arange(0, max_len, dtype=torch.float).unsqueeze(1)\n",
    "        div_term = torch.exp(\n",
    "            torch.arange(0, d_model, 2).float()\n",
    "            * (-torch.log(torch.tensor(10000.0)) / d_model)\n",
    "        )\n",
    "        pe[:, 0::2] = torch.sin(position * div_term)\n",
    "        pe[:, 1::2] = torch.cos(position * div_term)\n",
    "        pe = pe.unsqueeze(0).transpose(0, 1)\n",
    "        self.register_buffer(\"pe\", pe)\n",
    "\n",
    "    def forward(self, x):\n",
    "        x = x + self.pe[: x.size(0), :]\n",
    "        return self.dropout(x)\n",
    "\n",
    "\n",
    "class TransformerClassifier(pl.LightningModule):\n",
    "    def __init__(\n",
    "        self,\n",
    "        vocab_size,\n",
    "        embed_dim,\n",
    "        num_heads,\n",
    "        num_layers,\n",
    "        num_classes,\n",
    "        dropout_rate=0.1,\n",
    "    ):\n",
    "        super(TransformerClassifier, self).__init__()\n",
    "\n",
    "        self.embedding = nn.Embedding(vocab_size, embed_dim)\n",
    "        self.pos_enc = PositionalEncoding(embed_dim, dropout_rate)\n",
    "        encoder_layer = nn.TransformerEncoderLayer(d_model=embed_dim, nhead=num_heads)\n",
    "        self.transformer = nn.TransformerEncoder(encoder_layer, num_layers)\n",
    "        self.classifier = nn.Linear(embed_dim, num_classes)\n",
    "        self.loss = nn.CrossEntropyLoss()\n",
    "        self.accuracy = BinaryAccuracy()\n",
    "\n",
    "    def forward(self, x):\n",
    "        embedded = self.embedding(x)\n",
    "        embedded = self.pos_enc(embedded)\n",
    "        output = self.transformer(embedded)\n",
    "        output = self.classifier(output[:, 0, :])\n",
    "        return output\n",
    "\n",
    "    def training_step(self, batch, batch_idx):\n",
    "        x, y = batch\n",
    "        logits = self(x)\n",
    "        loss = self.loss(logits, y)\n",
    "        preds = torch.argmax(logits, dim=1)\n",
    "        acc = self.accuracy(preds, y)\n",
    "        self.log(\"train_loss\", loss)\n",
    "        self.log(\"train_acc\", acc)\n",
    "        return loss\n",
    "\n",
    "    def validation_step(self, batch, batch_idx):\n",
    "        x, y = batch\n",
    "        logits = self(x)\n",
    "        loss = self.loss(logits, y)\n",
    "        preds = torch.argmax(logits, dim=1)\n",
    "        acc = self.accuracy(preds, y)\n",
    "        self.log(\"val_loss\", loss)\n",
    "        self.log(\"val_acc\", acc)\n",
    "        return loss\n",
    "\n",
    "    def configure_optimizers(self):\n",
    "        return torch.optim.Adam(self.parameters(), lr=0.001)\n"
   ]
  },
  {
   "cell_type": "code",
   "execution_count": 7,
   "metadata": {},
   "outputs": [],
   "source": [
    "## helper functions\n",
    "\n",
    "\n",
    "# unique a list\n",
    "def unique_strings(string_list):\n",
    "    unique_list = list(set(string_list))\n",
    "    return unique_list\n",
    "\n",
    "\n",
    "# pad last element\n",
    "def pad_tokens(lst, n, depth=1, pad=\"<pad>\"):\n",
    "    \"\"\"Pad list to at least n length\"\"\"\n",
    "    out_list = []\n",
    "    pad_element = list([pad] * depth)\n",
    "    for i in range(len(lst)):\n",
    "        lst_len = len(lst[i])\n",
    "        if lst_len < n:\n",
    "            lst[i].extend([pad_element] * (n - lst_len))\n",
    "        out_list.append(lst[i])\n",
    "    return out_list\n"
   ]
  },
  {
   "attachments": {},
   "cell_type": "markdown",
   "metadata": {},
   "source": [
    "### Write code that tokenizes Davides json files"
   ]
  },
  {
   "cell_type": "code",
   "execution_count": 8,
   "metadata": {},
   "outputs": [],
   "source": [
    "## read in davides test data\n",
    "os.chdir(r\"H:/transEHR/\")\n",
    "file_path = r\"sample_diag_data.json\"\n",
    "with open(file_path, \"r\") as file:\n",
    "    json_data = json.load(file)\n"
   ]
  },
  {
   "cell_type": "code",
   "execution_count": 9,
   "metadata": {},
   "outputs": [
    {
     "data": {
      "text/plain": [
       "{'birthdate': '1988-07-15',\n",
       " 'end_of_data': '2021-12-25',\n",
       " 'events': [{'admid': 9999, 'admdate': '2018-07-07', 'codes': 'Q12'},\n",
       "  {'admid': 9999, 'admdate': '2003-12-02', 'codes': 'L400'},\n",
       "  {'admid': 9999, 'admdate': '2020-07-24', 'codes': 'U490'},\n",
       "  {'admid': 9999, 'admdate': '2013-01-20', 'codes': 'F442'},\n",
       "  {'admid': 9999, 'admdate': '2000-06-24', 'codes': 'B94'},\n",
       "  {'admid': 9999, 'admdate': '2002-06-02', 'codes': 'I38'}],\n",
       " 'split_group': 'train'}"
      ]
     },
     "execution_count": 9,
     "metadata": {},
     "output_type": "execute_result"
    }
   ],
   "source": [
    "json_data[\"0\"]\n"
   ]
  },
  {
   "cell_type": "code",
   "execution_count": 10,
   "metadata": {},
   "outputs": [],
   "source": [
    "## tokenize the data\n",
    "# first pass through the data to get all unique tokens\n",
    "codes = []\n",
    "for key, value in json_data.items():\n",
    "    list_of_events = value[\"events\"]\n",
    "    for n in range(len(list_of_events)):\n",
    "        codes.append(list_of_events[n][\"codes\"])\n",
    "\n",
    "# build vocabulary\n",
    "codes = unique_strings(codes)\n",
    "counter = Counter(codes)\n",
    "vocab_codes = vocab(counter, specials=(\"<pad>\", \"<unk>\", \"<cls>\"))\n"
   ]
  },
  {
   "cell_type": "code",
   "execution_count": 16,
   "metadata": {},
   "outputs": [],
   "source": [
    "## pass through data again to generate the tokenized version\n",
    "# output is list of lists data per individual: [ [admission_date1, token1], [admission_date2, token2] ]\n",
    "# tokens_pad is a list containing data for each individual\n",
    "# has_target is a list of same length containing 0 or 1 depending on whether individual had a target code\n",
    "# if individual has a target code the data is censored (ie. target-code and everything after is removed)\n",
    "\n",
    "# currently I am not taking in age or date of diagnosis to the model\n",
    "\n",
    "# adding date of diagnosis to the model\n",
    "# day of admission is given as no. days before last code\n",
    "# ie last code becomes 0 and is the reference with others as days before\n",
    "\n",
    "TARGET_CODES = [\"C25\", \"C253\", \"C252\", \"C259\", \"C250\", \"C251\", \"C258\", \"C254\", \"C257\"]\n",
    "has_target = []\n",
    "codes_all = []\n",
    "for key, value in json_data.items():\n",
    "    codes_individual = []\n",
    "    admdates_individual = []\n",
    "    list_of_events = value[\"events\"]\n",
    "\n",
    "    # parse through data per individual\n",
    "    for n in range(len(list_of_events)):\n",
    "        codes_individual.append(list_of_events[n][\"codes\"])\n",
    "        admdates_individual.append(list_of_events[n][\"admdate\"])\n",
    "\n",
    "    # individual: sort codes according to admdate\n",
    "    combined_list = list(zip(admdates_individual, codes_individual))\n",
    "    sorted_list = sorted(combined_list, key=lambda x: x[0])\n",
    "\n",
    "    # individual: filter if one of the target codes are found\n",
    "    sorted_admissions = [sublist[1] for sublist in sorted_list]\n",
    "    # then check if any of the admissions are in target\n",
    "    index = None\n",
    "    index = next(\n",
    "        (i for i, item in enumerate(sorted_admissions) if item in TARGET_CODES), None\n",
    "    )\n",
    "    # if found remove all data before this element\n",
    "    # and update if individual has target or not\n",
    "    if index:\n",
    "        sorted_list = sorted_list[0:index]\n",
    "        has_target.append(1)\n",
    "    else:\n",
    "        has_target.append(0)\n",
    "\n",
    "    # add time of admission\n",
    "\n",
    "    # add individual data to list containing all data\n",
    "    codes_all.append(sorted_list)\n",
    "\n",
    "# remove entries that are zero length\n",
    "# remember to remove from both codes and target variables\n",
    "codes_nzero = []\n",
    "has_target_nzero = []\n",
    "for i in range(len(codes_all)):\n",
    "    if len(codes_all[i]) > 0:\n",
    "        codes_nzero.append(codes_all[i])\n",
    "        has_target_nzero.append(has_target[i])\n",
    "\n",
    "removed_entries = len(codes_all) - len(codes_nzero)\n",
    "\n",
    "# then perform padding max entry length\n",
    "# pad the entries\n",
    "max_length = 0\n",
    "for i in range(len(codes_nzero)):\n",
    "    if len(codes_nzero[i]) > max_length:\n",
    "        max_length = len(codes)\n",
    "tokens_pad = pad_tokens(codes_nzero, n=max_length, depth=2)\n"
   ]
  },
  {
   "cell_type": "code",
   "execution_count": null,
   "metadata": {},
   "outputs": [],
   "source": [
    "## pass through data again to generate the tokenized version\n",
    "# output is list of lists data per individual: [ [admission_date1, token1], [admission_date2, token2] ]\n",
    "# tokens_pad is a list containing data for each individual\n",
    "# has_target is a list of same length containing 0 or 1 depending on whether individual had a target code\n",
    "# if individual has a target code the data is censored (ie. target-code and everything after is removed)\n",
    "\n",
    "# currently I am not taking in age or date of diagnosis to the model\n",
    "\n",
    "# adding date of diagnosis to the model\n",
    "# day of admission is given as no. days before last code\n",
    "# ie last code becomes 0 and is the reference with others as days before\n",
    "\n",
    "TARGET_CODES = [\"C25\", \"C253\", \"C252\", \"C259\", \"C250\", \"C251\", \"C258\", \"C254\", \"C257\"]\n",
    "has_target = []\n",
    "codes_all = []\n",
    "for key, value in json_data.items():\n",
    "    codes_individual = []\n",
    "    admdates_individual = []\n",
    "    list_of_events = value[\"events\"]\n",
    "\n",
    "    # parse through data per individual\n",
    "    for n in range(len(list_of_events)):\n",
    "        codes_individual.append(list_of_events[n][\"codes\"])\n",
    "        admdates_individual.append(list_of_events[n][\"admdate\"])\n",
    "\n",
    "    # individual: sort codes according to admdate\n",
    "    combined_list = list(zip(admdates_individual, codes_individual))\n",
    "    sorted_list = sorted(combined_list, key=lambda x: x[0])\n",
    "\n",
    "    # individual: filter if one of the target codes are found\n",
    "    sorted_admissions = [sublist[1] for sublist in sorted_list]\n",
    "    # then check if any of the admissions are in target\n",
    "    index = None\n",
    "    index = next(\n",
    "        (i for i, item in enumerate(sorted_admissions) if item in TARGET_CODES), None\n",
    "    )\n",
    "    # if found remove all data before this element\n",
    "    # and update if individual has target or not\n",
    "    if index:\n",
    "        sorted_list = sorted_list[0:index]\n",
    "        has_target.append(1)\n",
    "    else:\n",
    "        has_target.append(0)\n",
    "\n",
    "    # add time of admission\n",
    "\n",
    "    # add individual data to list containing all data\n",
    "    codes_all.append(sorted_list)\n",
    "\n",
    "# remove entries that are zero length\n",
    "# remember to remove from both codes and target variables\n",
    "codes_nzero = []\n",
    "has_target_nzero = []\n",
    "for i in range(len(codes_all)):\n",
    "    if len(codes_all[i]) > 0:\n",
    "        codes_nzero.append(codes_all[i])\n",
    "        has_target_nzero.append(has_target[i])\n",
    "\n",
    "removed_entries = len(codes_all) - len(codes_nzero)\n",
    "\n",
    "# then perform padding max entry length\n",
    "# pad the entries\n",
    "max_length = 0\n",
    "for i in range(len(codes_nzero)):\n",
    "    if len(codes_nzero[i]) > max_length:\n",
    "        max_length = len(codes)\n",
    "tokens_pad = pad_tokens(codes_nzero, n=max_length, depth=2)\n"
   ]
  },
  {
   "cell_type": "code",
   "execution_count": 10,
   "metadata": {},
   "outputs": [],
   "source": [
    "# extract only the codes (i.e. drop admission date for now)\n",
    "tokens_pad_sublist = []\n",
    "for i in range(len(tokens_pad)):\n",
    "    tokens_pad_sublist.append([sublist[1] for sublist in tokens_pad[i]])\n",
    "\n",
    "# convert using vocabulary and create tensors\n",
    "data_list = [vocab_codes(item) for item in tokens_pad_sublist]\n",
    "data_tensor = [torch.tensor(L, dtype=torch.int64) for L in data_list]\n",
    "target_tensor = torch.tensor(has_target_nzero)\n"
   ]
  },
  {
   "attachments": {},
   "cell_type": "markdown",
   "metadata": {},
   "source": [
    "### Create datasets and data loaders"
   ]
  },
  {
   "cell_type": "code",
   "execution_count": 25,
   "metadata": {},
   "outputs": [],
   "source": [
    "# create dataset and split into train and validation\n",
    "dataset = EHRDataset(data_tensor, target_tensor)\n",
    "\n",
    "# define the size of the validation set\n",
    "val_size = int(len(dataset) * 0.2)  # 20% for validation\n",
    "train_size = len(dataset) - val_size\n",
    "\n",
    "# split the dataset\n",
    "train_dataset, val_dataset = random_split(dataset, [train_size, val_size])\n"
   ]
  },
  {
   "cell_type": "code",
   "execution_count": 31,
   "metadata": {},
   "outputs": [],
   "source": [
    "# Create data loaders\n",
    "batch_size = 8\n",
    "train_loader = DataLoader(train_dataset, batch_size=batch_size)\n",
    "val_loader = DataLoader(val_dataset, batch_size=batch_size)\n"
   ]
  },
  {
   "cell_type": "code",
   "execution_count": 32,
   "metadata": {},
   "outputs": [],
   "source": [
    "# set logger\n",
    "logger = NeptuneLogger(\n",
    "    project=\"simonrasmu/TransformerEHR\",\n",
    "    api_token=\"eyJhcGlfYWRkcmVzcyI6Imh0dHBzOi8vYXBwLm5lcHR1bmUuYWkiLCJhcGlfdXJsIjoiaHR0cHM6Ly9hcHAubmVwdHVuZS5haSIsImFwaV9rZXkiOiI3NDYxMWVjMC1hYWRmLTQzODAtYWI1OS00N2I5ODY2MWUyYjkifQ==\",\n",
    ")\n",
    "\n",
    "# set hyperparameters\n",
    "# as specified by davides work\n",
    "vocab_size = len(vocab_codes)\n",
    "embed_dim = 32\n",
    "nhead = 16\n",
    "nhid = 256\n",
    "nlayers = 1\n",
    "nclasses = 2\n",
    "dropout = 0.1  # it was actually dropout=0\n"
   ]
  },
  {
   "attachments": {},
   "cell_type": "markdown",
   "metadata": {},
   "source": [
    "### Run Model"
   ]
  },
  {
   "cell_type": "code",
   "execution_count": 33,
   "metadata": {},
   "outputs": [
    {
     "name": "stderr",
     "output_type": "stream",
     "text": [
      "GPU available: True (mps), used: True\n",
      "TPU available: False, using: 0 TPU cores\n",
      "IPU available: False, using: 0 IPUs\n",
      "HPU available: False, using: 0 HPUs\n",
      "/Users/kjv627/miniforge3/envs/transEHR/lib/python3.11/site-packages/pytorch_lightning/callbacks/model_checkpoint.py:612: UserWarning: Checkpoint directory /Users/kjv627/Work/projects/CPR/transEHR/initial_model/.neptune/None/version_None/checkpoints exists and is not empty.\n",
      "  rank_zero_warn(f\"Checkpoint directory {dirpath} exists and is not empty.\")\n",
      "\n",
      "  | Name        | Type               | Params\n",
      "---------------------------------------------------\n",
      "0 | embedding   | Embedding          | 3.3 K \n",
      "1 | pos_enc     | PositionalEncoding | 0     \n",
      "2 | transformer | TransformerEncoder | 137 K \n",
      "3 | classifier  | Linear             | 66    \n",
      "4 | loss        | CrossEntropyLoss   | 0     \n",
      "5 | accuracy    | BinaryAccuracy     | 0     \n",
      "---------------------------------------------------\n",
      "140 K     Trainable params\n",
      "0         Non-trainable params\n",
      "140 K     Total params\n",
      "0.563     Total estimated model params size (MB)\n"
     ]
    },
    {
     "name": "stdout",
     "output_type": "stream",
     "text": [
      "Sanity Checking DataLoader 0:   0%|          | 0/2 [00:00<?, ?it/s]"
     ]
    },
    {
     "name": "stderr",
     "output_type": "stream",
     "text": [
      "/Users/kjv627/miniforge3/envs/transEHR/lib/python3.11/site-packages/pytorch_lightning/trainer/connectors/data_connector.py:430: PossibleUserWarning: The dataloader, val_dataloader, does not have many workers which may be a bottleneck. Consider increasing the value of the `num_workers` argument` (try 8 which is the number of cpus on this machine) in the `DataLoader` init to improve performance.\n",
      "  rank_zero_warn(\n"
     ]
    },
    {
     "name": "stdout",
     "output_type": "stream",
     "text": [
      "                                                                           "
     ]
    },
    {
     "name": "stderr",
     "output_type": "stream",
     "text": [
      "/Users/kjv627/miniforge3/envs/transEHR/lib/python3.11/site-packages/pytorch_lightning/trainer/connectors/data_connector.py:430: PossibleUserWarning: The dataloader, train_dataloader, does not have many workers which may be a bottleneck. Consider increasing the value of the `num_workers` argument` (try 8 which is the number of cpus on this machine) in the `DataLoader` init to improve performance.\n",
      "  rank_zero_warn(\n"
     ]
    },
    {
     "name": "stdout",
     "output_type": "stream",
     "text": [
      "Epoch 0:   5%|▌         | 50/967 [00:01<00:30, 30.35it/s]https://app.neptune.ai/simonrasmu/TransformerEHR/e/TRAN-10\n",
      "Epoch 4: 100%|██████████| 967/967 [00:24<00:00, 39.02it/s, v_num=N-10]\n"
     ]
    }
   ],
   "source": [
    "# Initialize your model\n",
    "# def __init__(self, vocab_size, embed_dim, num_heads, num_layers, num_classes, dropout_rate=0.1):\n",
    "model = TransformerClassifier(vocab_size, embed_dim, nhead, nlayers, nclasses, dropout)\n",
    "\n",
    "# Initialize a trainer\n",
    "trainer = pl.Trainer(\n",
    "    max_epochs=50, callbacks=[EarlyStopping(monitor=\"val_loss\")], logger=logger\n",
    ")\n",
    "\n",
    "# Train the model\n",
    "trainer.fit(model, train_loader, val_loader)\n",
    "trainer.logger.log_graph(model)\n",
    "trainer.logger.finalize(\"success\")\n"
   ]
  },
  {
   "cell_type": "code",
   "execution_count": 34,
   "metadata": {},
   "outputs": [],
   "source": [
    "# perform predictions on validation set\n",
    "# ideally one wants to predict on a held out test set\n",
    "\n",
    "model.eval()\n",
    "prob_list = []\n",
    "pred_list = []\n",
    "prob_pos_class = []\n",
    "targets_list = []\n",
    "with torch.no_grad():\n",
    "    for batch in val_loader:\n",
    "        inputs = batch[0]\n",
    "        targets = batch[1]\n",
    "        targets_list.extend(targets)\n",
    "\n",
    "        # forward pass\n",
    "        outputs = model(inputs)\n",
    "\n",
    "        # get predictions\n",
    "        prob = torch.nn.functional.softmax(outputs, dim=-1)\n",
    "        pred = torch.argmax(prob, dim=-1)\n",
    "\n",
    "        # save into lists\n",
    "        prob_list.append(prob)\n",
    "        pred_list.extend(pred)\n",
    "        prob_pos_class.extend(prob[:, 1])  # flattened prob for positive class\n"
   ]
  },
  {
   "cell_type": "code",
   "execution_count": 35,
   "metadata": {},
   "outputs": [
    {
     "name": "stdout",
     "output_type": "stream",
     "text": [
      "MCC:  0.36242886284587267\n",
      "ROC-AUC: 0.600886206727272\n"
     ]
    }
   ],
   "source": [
    "# plot ROC AUC\n",
    "import matplotlib.pyplot as plt\n",
    "from sklearn.metrics import roc_curve, auc, matthews_corrcoef\n",
    "\n",
    "y_true = targets_list\n",
    "y_score = prob_pos_class\n",
    "\n",
    "# Compute ROC curve and ROC area\n",
    "fpr, tpr, _ = roc_curve(y_true, y_score)\n",
    "roc_auc = auc(fpr, tpr)\n",
    "\n",
    "# Compute MCC\n",
    "mcc = matthews_corrcoef(y_true, pred_list)\n",
    "\n",
    "print(\"MCC: \", mcc)\n",
    "print(\"ROC-AUC:\", roc_auc)\n"
   ]
  },
  {
   "cell_type": "code",
   "execution_count": 36,
   "metadata": {},
   "outputs": [
    {
     "data": {
      "image/png": "[encoded data removed]",
      "text/plain": [
       "<Figure size 640x480 with 1 Axes>"
      ]
     },
     "metadata": {},
     "output_type": "display_data"
    }
   ],
   "source": [
    "# Plot\n",
    "plt.figure()\n",
    "lw = 2  # Line width\n",
    "plt.plot(\n",
    "    fpr, tpr, color=\"darkorange\", lw=lw, label=\"ROC curve (area = %0.2f)\" % roc_auc\n",
    ")\n",
    "plt.plot([0, 1], [0, 1], color=\"navy\", lw=lw, linestyle=\"--\")  # Random classifier\n",
    "plt.xlim([0.0, 1.0])\n",
    "plt.ylim([0.0, 1.05])\n",
    "plt.xlabel(\"False Positive Rate\")\n",
    "plt.ylabel(\"True Positive Rate\")\n",
    "plt.title(\"Receiver Operating Characteristic example\")\n",
    "plt.legend(loc=\"lower right\")\n",
    "plt.show()\n"
   ]
  },
  {
   "cell_type": "code",
   "execution_count": null,
   "metadata": {},
   "outputs": [],
   "source": []
  }
 ],
 "metadata": {
  "kernelspec": {
   "display_name": "transEHR",
   "language": "python",
   "name": "python3"
  },
  "language_info": {
   "codemirror_mode": {
    "name": "ipython",
    "version": 3
   },
   "file_extension": ".py",
   "mimetype": "text/x-python",
   "name": "python",
   "nbconvert_exporter": "python",
   "pygments_lexer": "ipython3",
   "version": "3.10.11"
  },
  "orig_nbformat": 4
 },
 "nbformat": 4,
 "nbformat_minor": 2
}
