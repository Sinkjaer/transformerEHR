{
 "cells": [
  {
   "cell_type": "code",
   "execution_count": 4,
   "metadata": {
    "jupyter": {
     "outputs_hidden": false,
     "source_hidden": false
    },
    "nteract": {
     "transient": {
      "deleting": false
     }
    }
   },
   "outputs": [
    {
     "name": "stdout",
     "output_type": "stream",
     "text": [
      ".\t\t   .gitignore\t\t   behrtmlmazure.ipynb.amltmp\r\n",
      "..\t\t   .ipynb_aml_checkpoints  common\r\n",
      ".DS_Store\t   .vscode\t\t   data\r\n",
      ".amlignore\t   __pycache__\t\t   dataLoader\r\n",
      ".amlignore.amltmp  behrt.yml\t\t   model\r\n",
      ".git\t\t   behrtMLMAzure.ipynb\t   task\r\n"
     ]
    }
   ],
   "source": [
    "!ls -a"
   ]
  },
  {
   "cell_type": "code",
   "execution_count": null,
   "metadata": {
    "gather": {
     "logged": 1692000132353
    },
    "jupyter": {
     "outputs_hidden": false,
     "source_hidden": false
    },
    "nteract": {
     "transient": {
      "deleting": false
     }
    }
   },
   "outputs": [
    {
     "name": "stderr",
     "output_type": "stream",
     "text": [
      "Submitting /mnt/batch/tasks/shared/LS_root/mounts/clusters/mikkel4c14/code/Users/mikkel.sinkjaer/transformerEHR directory for run. The size of the directory >= 25 MB, so it can take a few minutes.\n"
     ]
    }
   ],
   "source": [
    "from azureml.core import Workspace, Experiment, Environment\n",
    "from azureml.core.script_run_config import ScriptRunConfig\n",
    "from azureml.core.conda_dependencies import CondaDependencies\n",
    "import azureml._restclient.snapshots_client\n",
    "\n",
    "# Set the desired snapshot size (in bytes)\n",
    "snapshot_size = 1073741824\n",
    "\n",
    "# Update the maximum snapshot size\n",
    "azureml._restclient.snapshots_client.SNAPSHOT_MAX_SIZE_BYTES = snapshot_size\n",
    "\n",
    "# Retrieve Workspace\n",
    "ws = Workspace.from_config()\n",
    "\n",
    "# Get the Curated Environment\n",
    "curated_env = Environment.get(workspace=ws, name=\"AzureML-ACPT-pytorch-1.11-py38-cuda11.3-gpu\")\n",
    "\n",
    "env = curated_env.clone('clone_env')\n",
    "\n",
    "# Define additional conda and pip packages you want to install\n",
    "conda_dep = CondaDependencies()\n",
    "conda_dep.add_pip_package(\"pytorch-lightning\")  # Add PyTorch Lightning\n",
    "\n",
    "env.python.conda_dependencies = conda_dep\n",
    "\n",
    "# Define the Training Script and Directory\n",
    "script_folder = ''\n",
    "script_name = 'task/executeBehrtMLM.py'  # your training script\n",
    "\n",
    "# Create an Experiment\n",
    "experiment_name = 'My-Experiment'\n",
    "experiment = Experiment(workspace=ws, name=experiment_name)\n",
    "\n",
    "# Configure and Submit the Training Job\n",
    "src = ScriptRunConfig(source_directory=script_folder,\n",
    "                      script=script_name,\n",
    "                      compute_target = 'MikkelGpu',\n",
    "                      environment=env) \n",
    "\n",
    "run = experiment.submit(src)\n",
    "run.wait_for_completion(show_output=True)"
   ]
  },
  {
   "cell_type": "code",
   "execution_count": 11,
   "metadata": {
    "gather": {
     "logged": 1691833353869
    },
    "jupyter": {
     "outputs_hidden": false,
     "source_hidden": false
    },
    "nteract": {
     "transient": {
      "deleting": false
     }
    }
   },
   "outputs": [
    {
     "name": "stdout",
     "output_type": "stream",
     "text": [
      "# conda environments:\r\n",
      "#\r\n",
      "base                     /anaconda\r\n",
      "azureml_py310_sdkv2      /anaconda/envs/azureml_py310_sdkv2\r\n",
      "azureml_py38             /anaconda/envs/azureml_py38\r\n",
      "azureml_py38_PT_TF       /anaconda/envs/azureml_py38_PT_TF\r\n",
      "behrt_cpu                /anaconda/envs/behrt_cpu\r\n",
      "jupyter_env              /anaconda/envs/jupyter_env\r\n",
      "\r\n"
     ]
    }
   ],
   "source": [
    "!conda env list\n",
    "!conda activate --stack azureml_py38_PT_TF\n",
    "\n",
    "# !pip install torchtext"
   ]
  }
 ],
 "metadata": {
  "kernel_info": {
   "name": "python38-azureml-pt-tf"
  },
  "kernelspec": {
   "display_name": "Python 3.8 - Pytorch and Tensorflow",
   "language": "python",
   "name": "python38-azureml-pt-tf"
  },
  "language_info": {
   "codemirror_mode": {
    "name": "ipython",
    "version": 3
   },
   "file_extension": ".py",
   "mimetype": "text/x-python",
   "name": "python",
   "nbconvert_exporter": "python",
   "pygments_lexer": "ipython3",
   "version": "3.8.5"
  },
  "microsoft": {
   "host": {
    "AzureML": {
     "notebookHasBeenCompleted": true
    }
   },
   "ms_spell_check": {
    "ms_spell_check_language": "en"
   }
  },
  "nteract": {
   "version": "nteract-front-end@1.0.0"
  }
 },
 "nbformat": 4,
 "nbformat_minor": 2
}
